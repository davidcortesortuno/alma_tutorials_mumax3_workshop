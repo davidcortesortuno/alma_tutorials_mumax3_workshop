{
  "nbformat": 4,
  "nbformat_minor": 0,
  "metadata": {
    "kernelspec": {
      "display_name": "Python 3",
      "language": "python",
      "name": "python3"
    },
    "language_info": {
      "codemirror_mode": {
        "name": "ipython",
        "version": 3
      },
      "file_extension": ".py",
      "mimetype": "text/x-python",
      "name": "python",
      "nbconvert_exporter": "python",
      "pygments_lexer": "ipython3",
      "version": "3.8.10"
    },
    "colab": {
      "name": "Copy of mumax3_google_colab_intro.ipynb",
      "provenance": [],
      "collapsed_sections": [
        "ZWJBNwSKTC92"
      ]
    },
    "accelerator": "GPU"
  },
  "cells": [
    {
      "cell_type": "markdown",
      "metadata": {
        "id": "ArLyLLYjTC9m"
      },
      "source": [
        "# ALMA Tutorials: MuMax3 Workshop\n",
        "Author: David Cortés-Ortuño\n",
        "\n",
        "Utrecht University, Netherlands <img src=\"https://upload.wikimedia.org/wikipedia/en/thumb/2/26/Utrecht_University_logo.svg/1280px-Utrecht_University_logo.svg.png\" height=30 width=30 style=\"display: inline-block;\">\n",
        "\n",
        "Credits to: The Dynamat Team from Ghent University and the [MuMax3 Workshop](https://mumax.ugent.be/mumax3-workshop/); Google \n",
        "\n",
        "## Using Google Colab\n",
        "\n",
        "This notebook will help you to install and run MuMax3 in a Google Colab (GC) machine. The GC interface is based on the Python 🐍 programming language using a Jupyter notebook. To run the commands press `Shift+Enter/Return` in every cell.\n",
        "\n",
        "To run commands as in the command line interface (in the shell) we prepend an exclamation sign `!` to the commands. In this case we can see we are running Linux:"
      ]
    },
    {
      "cell_type": "code",
      "metadata": {
        "id": "yC-U2GkZTC9r",
        "colab": {
          "base_uri": "https://localhost:8080/"
        },
        "outputId": "7f4b2be8-0638-4a81-bc39-5273e0803de0"
      },
      "source": [
        "!echo \"This Google Colab machine runs\" $(uname -a)"
      ],
      "execution_count": 46,
      "outputs": [
        {
          "output_type": "stream",
          "name": "stdout",
          "text": [
            "This Google Colab machine runs Linux f1c82c984ae3 5.4.104+ #1 SMP Sat Jun 5 09:50:34 PDT 2021 x86_64 x86_64 x86_64 GNU/Linux\n"
          ]
        }
      ]
    },
    {
      "cell_type": "markdown",
      "metadata": {
        "id": "zomJLbgQTC9u"
      },
      "source": [
        "The GC machines can be used with a GPU, which we can confirm by running the `nvidia` System Management Interface command and which also tells us the CUDA version:"
      ]
    },
    {
      "cell_type": "code",
      "metadata": {
        "id": "p2z_cm5aTC9u",
        "colab": {
          "base_uri": "https://localhost:8080/"
        },
        "outputId": "058b9368-c539-4f2c-a474-1e1b9af6d72d"
      },
      "source": [
        "!nvidia-smi"
      ],
      "execution_count": 2,
      "outputs": [
        {
          "output_type": "stream",
          "name": "stdout",
          "text": [
            "Thu Nov 18 12:36:42 2021       \n",
            "+-----------------------------------------------------------------------------+\n",
            "| NVIDIA-SMI 495.44       Driver Version: 460.32.03    CUDA Version: 11.2     |\n",
            "|-------------------------------+----------------------+----------------------+\n",
            "| GPU  Name        Persistence-M| Bus-Id        Disp.A | Volatile Uncorr. ECC |\n",
            "| Fan  Temp  Perf  Pwr:Usage/Cap|         Memory-Usage | GPU-Util  Compute M. |\n",
            "|                               |                      |               MIG M. |\n",
            "|===============================+======================+======================|\n",
            "|   0  Tesla K80           Off  | 00000000:00:04.0 Off |                    0 |\n",
            "| N/A   66C    P8    32W / 149W |      0MiB / 11441MiB |      0%      Default |\n",
            "|                               |                      |                  N/A |\n",
            "+-------------------------------+----------------------+----------------------+\n",
            "                                                                               \n",
            "+-----------------------------------------------------------------------------+\n",
            "| Processes:                                                                  |\n",
            "|  GPU   GI   CI        PID   Type   Process name                  GPU Memory |\n",
            "|        ID   ID                                                   Usage      |\n",
            "|=============================================================================|\n",
            "|  No running processes found                                                 |\n",
            "+-----------------------------------------------------------------------------+\n"
          ]
        }
      ]
    },
    {
      "cell_type": "markdown",
      "metadata": {
        "id": "PSX_mdb-TC9v"
      },
      "source": [
        "If the GPU is not enabled in your GC machine, you can activate it by going to:\n",
        "\n",
        "`Runtime -> Change runtime type`\n",
        "\n",
        "in the top menu and choosing GPU."
      ]
    },
    {
      "cell_type": "markdown",
      "metadata": {
        "id": "wLVJg3YnTC9w"
      },
      "source": [
        "We can now install MuMax3 in this machine by downloading the code binaries and add the `mumax3` command to the environment paths which allows us to run the simulations:"
      ]
    },
    {
      "cell_type": "code",
      "metadata": {
        "id": "uYxEM1E-TC9w",
        "colab": {
          "base_uri": "https://localhost:8080/"
        },
        "outputId": "fe63e5c4-b5f7-4d4f-e9c2-b9c85069788e"
      },
      "source": [
        "# Download the mumax3 binary\n",
        "!wget https://mumax.ugent.be/mumax3-binaries/mumax3.10_linux_cuda10.1.tar.gz\n",
        "!tar -xvf mumax3.10_linux_cuda10.1.tar.gz\n",
        "!rm mumax3.10_linux_cuda10.1.tar.gz\n",
        "!rm -rf mumax3.10 && mv mumax3.10_linux_cuda10.1 mumax3.10\n",
        "\n",
        "#update the PATH environment variable\n",
        "import os\n",
        "os.environ['PATH'] += \":/content/mumax3.10\""
      ],
      "execution_count": 47,
      "outputs": [
        {
          "output_type": "stream",
          "name": "stdout",
          "text": [
            "--2021-11-18 14:24:50--  https://mumax.ugent.be/mumax3-binaries/mumax3.10_linux_cuda10.1.tar.gz\n",
            "Resolving mumax.ugent.be (mumax.ugent.be)... 157.193.40.77\n",
            "Connecting to mumax.ugent.be (mumax.ugent.be)|157.193.40.77|:443... connected.\n",
            "HTTP request sent, awaiting response... 200 OK\n",
            "Length: 150707207 (144M) [application/x-gzip]\n",
            "Saving to: ‘mumax3.10_linux_cuda10.1.tar.gz’\n",
            "\n",
            "mumax3.10_linux_cud 100%[===================>] 143.73M  25.5MB/s    in 6.5s    \n",
            "\n",
            "2021-11-18 14:24:58 (22.0 MB/s) - ‘mumax3.10_linux_cuda10.1.tar.gz’ saved [150707207/150707207]\n",
            "\n",
            "mumax3.10_linux_cuda10.1/\n",
            "mumax3.10_linux_cuda10.1/mumax3-server\n",
            "mumax3.10_linux_cuda10.1/lib/\n",
            "mumax3.10_linux_cuda10.1/lib/libcurand.so.10\n",
            "mumax3.10_linux_cuda10.1/lib/libcufft.so.10\n",
            "mumax3.10_linux_cuda10.1/mumax3\n",
            "mumax3.10_linux_cuda10.1/LICENSE\n",
            "mumax3.10_linux_cuda10.1/mumax3-convert\n"
          ]
        }
      ]
    },
    {
      "cell_type": "markdown",
      "metadata": {
        "id": "0iAWiQ3OTC9x"
      },
      "source": [
        "Note that commands without `!` are run using normal Python."
      ]
    },
    {
      "cell_type": "code",
      "metadata": {
        "id": "6e1I9BKu2buT",
        "colab": {
          "base_uri": "https://localhost:8080/"
        },
        "outputId": "c5c48f08-a883-4501-bebe-b144f06f37a1"
      },
      "source": [
        "!mumax3"
      ],
      "execution_count": null,
      "outputs": [
        {
          "output_type": "stream",
          "name": "stdout",
          "text": [
            "//mumax 3.10 [linux_amd64 go1.14(gc) CUDA-10.1]\n",
            "//GPU info: Tesla K80(11441MB), CUDA Driver 11.2, cc=3.7, using cc=37 PTX\n",
            "//(c) Arne Vansteenkiste, Dynamat LAB, Ghent University, Belgium\n",
            "//This is free software without any warranty. See license.txt\n",
            "//********************************************************************//\n",
            "//  If you use mumax in any work or publication,                      //\n",
            "//  we kindly ask you to cite the references in references.bib        //\n",
            "//********************************************************************//\n"
          ]
        }
      ]
    },
    {
      "cell_type": "markdown",
      "metadata": {
        "id": "MkTIUxcXTC9y"
      },
      "source": [
        "## Running a script using the command line interface\n",
        "\n",
        "We can test MuMax3 is installed correctly by clonning Std Problem 4 script from one of the MuMax3 developers (see also https://mumax.ugent.be/mumax3-workshop/ ):"
      ]
    },
    {
      "cell_type": "code",
      "metadata": {
        "id": "ZmCPMfe-TC9z"
      },
      "source": [
        "# Download an examplary script\n",
        "!wget https://raw.githubusercontent.com/JeroenMulkers/mumax3-tutorial/master/standardproblem4.mx3 -O standardproblem4.mx3"
      ],
      "execution_count": null,
      "outputs": []
    },
    {
      "cell_type": "markdown",
      "metadata": {
        "id": "5g8cBbjrTC9z"
      },
      "source": [
        "You can check this is downloaded by looking at the files in the left side panel. Now we run this script ⌛️:"
      ]
    },
    {
      "cell_type": "code",
      "metadata": {
        "id": "znqKQucxTC90"
      },
      "source": [
        "!mumax3 standardproblem4.mx3"
      ],
      "execution_count": null,
      "outputs": []
    },
    {
      "cell_type": "markdown",
      "metadata": {
        "id": "eqHRQ8c-TC90"
      },
      "source": [
        "And finally we can check the outputs by converting the output file to a `png` image:"
      ]
    },
    {
      "cell_type": "code",
      "metadata": {
        "id": "yeaIE9u8TC91"
      },
      "source": [
        "!mumax3-convert -arrows 20 -png -resize 256x128x4 /content/standardproblem4.out/m000000.ovf "
      ],
      "execution_count": null,
      "outputs": []
    },
    {
      "cell_type": "markdown",
      "metadata": {
        "id": "d3btppSpTC91"
      },
      "source": [
        "Which we can plot using the `Image` command from Python:"
      ]
    },
    {
      "cell_type": "code",
      "metadata": {
        "id": "Kf2eZAhdTC92"
      },
      "source": [
        "from IPython.display import Image\n",
        "\n",
        "Image('standardproblem4.out/m000000.png')"
      ],
      "execution_count": null,
      "outputs": []
    },
    {
      "cell_type": "markdown",
      "metadata": {
        "id": "ZWJBNwSKTC92"
      },
      "source": [
        "## Running a script using Python\n",
        "\n",
        "Alternatively, we can also run a script by writing it using Python, saving the file and then running it:"
      ]
    },
    {
      "cell_type": "code",
      "metadata": {
        "id": "wF__cLFtTC93"
      },
      "source": [
        "import textwrap  # this library helps to remove whitespaces to the left"
      ],
      "execution_count": null,
      "outputs": []
    },
    {
      "cell_type": "code",
      "metadata": {
        "id": "SNHbbjfITC93"
      },
      "source": [
        "# Here we create a string with the simulation script:\n",
        "my_simulation = textwrap.dedent(\"\"\"\n",
        "SetGridsize(128, 32, 1)\n",
        "SetCellsize(500e-9/128, 125e-9/32, 3e-9)\n",
        "\n",
        "Msat  = 800e3\n",
        "Aex   = 13e-12\n",
        "alpha = 0.02\n",
        "\n",
        "m = uniform(1, .1, 0)\n",
        "relax()\n",
        "save(m)    // relaxed state\n",
        "\n",
        "autosave(m, 200e-12)\n",
        "tableautosave(10e-12)\n",
        "\n",
        "B_ext = vector(-24.6E-3, 4.3E-3, 0)\n",
        "run(1e-9)\n",
        "\"\"\")\n",
        "\n",
        "with open('std_prob4_usingpython.mx3', 'w') as f:\n",
        "    f.write(my_simulation)"
      ],
      "execution_count": null,
      "outputs": []
    },
    {
      "cell_type": "markdown",
      "metadata": {
        "id": "nEag8MrdTC93"
      },
      "source": [
        "We can now run this script ⌛️:"
      ]
    },
    {
      "cell_type": "code",
      "metadata": {
        "id": "27o--IVTTC94"
      },
      "source": [
        "!mumax3 std_prob4_usingpython.mx3"
      ],
      "execution_count": null,
      "outputs": []
    },
    {
      "cell_type": "markdown",
      "metadata": {
        "id": "V9RS-UzoTC94"
      },
      "source": [
        "Note that in this case, we can use all the advantages of Python, like replacing variables with numerical values 😀"
      ]
    },
    {
      "cell_type": "code",
      "metadata": {
        "id": "Qk700KfUTC94"
      },
      "source": [
        ""
      ],
      "execution_count": null,
      "outputs": []
    },
    {
      "cell_type": "markdown",
      "metadata": {
        "id": "B7vPskUF3HBX"
      },
      "source": [
        "# Standard Problem 2"
      ]
    },
    {
      "cell_type": "code",
      "metadata": {
        "id": "CxHXNPBY6aKF"
      },
      "source": [
        "from IPython.display import Image"
      ],
      "execution_count": null,
      "outputs": []
    },
    {
      "cell_type": "code",
      "metadata": {
        "id": "VNQL47AyBiIc"
      },
      "source": [
        "!rm -r std_prob_2.out"
      ],
      "execution_count": null,
      "outputs": []
    },
    {
      "cell_type": "code",
      "metadata": {
        "id": "KLMfDSH73Jgr",
        "colab": {
          "base_uri": "https://localhost:8080/"
        },
        "outputId": "26703a6c-0bfa-4d44-bc6c-2d21ad8c4861"
      },
      "source": [
        "!mumax3 std_prob_2.mx3"
      ],
      "execution_count": null,
      "outputs": [
        {
          "output_type": "stream",
          "name": "stdout",
          "text": [
            "//mumax 3.10 [linux_amd64 go1.14(gc) CUDA-10.1]\n",
            "//GPU info: Tesla K80(11441MB), CUDA Driver 11.2, cc=3.7, using cc=37 PTX\n",
            "//(c) Arne Vansteenkiste, Dynamat LAB, Ghent University, Belgium\n",
            "//This is free software without any warranty. See license.txt\n",
            "//********************************************************************//\n",
            "//  If you use mumax in any work or publication,                      //\n",
            "//  we kindly ask you to cite the references in references.bib        //\n",
            "//********************************************************************//\n",
            "//output directory: std_prob_2.out/\n",
            "//starting GUI at http://127.0.0.1:35367\n",
            "lex := 5e-9\n",
            "d := 30 * lex\n",
            "lx := 5 * d\n",
            "ly := 1 * d\n",
            "lz := 0.1 * d\n",
            "Ms := 1.0 / mu0\n",
            "Msat = Ms\n",
            "Aex = 0.5 * mu0 * lex * lex * pow(Ms, 2)\n",
            "nx := pow(2, ilogb(lx/(0.5*lex))+1)\n",
            "ny := pow(2, ilogb(ly/(0.5*lex))+1)\n",
            "Print(nx, ny)\n",
            "//512 64\n",
            "Print(lx)\n",
            "//7.5e-07\n",
            "print(ly)\n",
            "//1.5e-07\n",
            "print(lz)\n",
            "//1.5e-08\n",
            "SetGridSize(nx, ny, 1)\n",
            "SetCellSize(lx/nx, ly/ny, lz/1.)\n",
            "snapshot(geom)\n",
            "m = uniform(1., 1., 0.9)\n",
            "SaveAs(m, \"m_initial\")\n",
            "B0 := 200e-3\n",
            "TableAdd(B_ext)\n",
            "Bdir := vector(1., 1., 1.)\n",
            "Bnorm := sqrt(Bdir.Dot(Bdir))\n",
            "Bdir = Bdir.Mul(1 / Bnorm)\n",
            "TableAddVar(B0, \"B_norm\", \"T\")\n",
            "m_dot_Bir := 0.0\n",
            "TableAddVar(m_dot_Bir, \"m.Bdir\", \"\")\n",
            "for B0 = 200e-3; B0 > -100e-3; B0 -= 10e-3 {\n",
            "\tB_ext = Bdir.Mul(B0)\n",
            "\tm_dot_Bir = m.average().Dot(Bdir)\n",
            "\tminimize()\n",
            "\tsave(m)\n",
            "\tTablesave()\n",
            "\tprint(B0)\n",
            "}\n",
            "//Using cached kernel: /tmp/mumax3kernel_[512 64 1]_[0 0 0]_[1.46484375e-09 2.34375e-09 1.5e-08]_6_\n",
            "//0.2\n",
            "//0.19\n",
            "//0.18\n",
            "//0.16999999999999998\n",
            "//0.15999999999999998\n",
            "//0.14999999999999997\n",
            "//0.13999999999999996\n",
            "//0.12999999999999995\n",
            "//0.11999999999999995\n",
            "//0.10999999999999996\n",
            "//0.09999999999999996\n",
            "//0.08999999999999997\n",
            "//0.07999999999999997\n",
            "//0.06999999999999998\n",
            "//0.05999999999999998\n",
            "//0.049999999999999975\n",
            "//0.03999999999999997\n",
            "//0.02999999999999997\n",
            "//0.01999999999999997\n",
            "//0.009999999999999969\n",
            "//-3.122502256758253e-17\n",
            "//-0.010000000000000031\n",
            "//-0.02000000000000003\n",
            "//-0.030000000000000034\n",
            "//-0.040000000000000036\n",
            "//-0.05000000000000004\n",
            "//-0.06000000000000004\n",
            "//-0.07000000000000003\n",
            "//-0.08000000000000003\n",
            "//-0.09000000000000002\n",
            "save(m)\n",
            "SaveAs(m, \"m_relaxed\")\n",
            "//********************************************************************//\n",
            "//Please cite the following references, relevant for your simulation. //\n",
            "//See bibtex file in output folder for justification.                 //\n",
            "//********************************************************************//\n",
            "//   * Vansteenkiste et al., AIP Adv. 4, 107133 (2014).\n",
            "//   * Exl et al., J. Appl. Phys. 115, 17D118 (2014).\n"
          ]
        }
      ]
    },
    {
      "cell_type": "code",
      "metadata": {
        "id": "H_9n6C8h4c1b",
        "colab": {
          "base_uri": "https://localhost:8080/",
          "height": 81
        },
        "outputId": "c6e273ff-bc63-43bb-d332-9e58d240807d"
      },
      "source": [
        "Image('/content/std_prob_2.out/geom000000.jpg')"
      ],
      "execution_count": null,
      "outputs": [
        {
          "output_type": "execute_result",
          "data": {
            "image/jpeg": "[encoded data removed]",
            "text/plain": [
              "<IPython.core.display.Image object>"
            ]
          },
          "metadata": {},
          "execution_count": 54
        }
      ]
    },
    {
      "cell_type": "code",
      "metadata": {
        "id": "lrOwQi306gbb",
        "colab": {
          "base_uri": "https://localhost:8080/"
        },
        "outputId": "c600a1af-c074-4aa8-cedd-12b519495a3f"
      },
      "source": [
        "!mumax3-convert -png -arrows 32 /content/std_prob_2.out/m_relaxed.ovf"
      ],
      "execution_count": null,
      "outputs": [
        {
          "output_type": "stream",
          "name": "stdout",
          "text": [
            "/content/std_prob_2.out/m_relaxed.ovf\n",
            "[ ok ] /content/std_prob_2.out/m_relaxed.ovf\t-> /content/std_prob_2.out/m_relaxed.png\n",
            "1 files converted,  0 skipped,  0 failed\n"
          ]
        }
      ]
    },
    {
      "cell_type": "code",
      "metadata": {
        "id": "SCdumllH89ZE",
        "colab": {
          "base_uri": "https://localhost:8080/",
          "height": 81
        },
        "outputId": "13b0d356-f36b-4da1-d198-ca8ead636faf"
      },
      "source": [
        "Image('/content/std_prob_2.out/m_relaxed.png')"
      ],
      "execution_count": null,
      "outputs": [
        {
          "output_type": "execute_result",
          "data": {
            "image/png": "[encoded data removed]",
            "text/plain": [
              "<IPython.core.display.Image object>"
            ]
          },
          "metadata": {},
          "execution_count": 25
        }
      ]
    },
    {
      "cell_type": "code",
      "metadata": {
        "id": "AxDZxqIi9UWG",
        "colab": {
          "base_uri": "https://localhost:8080/"
        },
        "outputId": "2e22e4c5-3b22-41ac-9806-2675bf89ee04"
      },
      "source": [
        "!mumax3-convert -vtk ascii /content/std_prob_2.out/*.ovf"
      ],
      "execution_count": null,
      "outputs": [
        {
          "output_type": "stream",
          "name": "stdout",
          "text": [
            "/content/std_prob_2.out/m000000.ovf\n",
            "/content/std_prob_2.out/m000001.ovf\n",
            "/content/std_prob_2.out/m000002.ovf\n",
            "/content/std_prob_2.out/m000003.ovf\n",
            "/content/std_prob_2.out/m000004.ovf\n",
            "/content/std_prob_2.out/m000005.ovf\n",
            "/content/std_prob_2.out/m000006.ovf\n",
            "/content/std_prob_2.out/m000007.ovf\n",
            "/content/std_prob_2.out/m000008.ovf\n",
            "/content/std_prob_2.out/m000009.ovf\n",
            "/content/std_prob_2.out/m000010.ovf\n",
            "/content/std_prob_2.out/m000011.ovf\n",
            "/content/std_prob_2.out/m000012.ovf\n",
            "/content/std_prob_2.out/m000013.ovf\n",
            "/content/std_prob_2.out/m000014.ovf\n",
            "/content/std_prob_2.out/m000015.ovf\n",
            "/content/std_prob_2.out/m000016.ovf\n",
            "/content/std_prob_2.out/m_initial.ovf\n",
            "/content/std_prob_2.out/m_relaxed.ovf\n",
            "[ ok ] /content/std_prob_2.out/m000000.ovf\t-> /content/std_prob_2.out/m000000.vts\n",
            "[ ok ] /content/std_prob_2.out/m000002.ovf\t-> /content/std_prob_2.out/m000002.vts\n",
            "[ ok ] /content/std_prob_2.out/m000001.ovf\t-> /content/std_prob_2.out/m000001.vts\n",
            "[ ok ] /content/std_prob_2.out/m000003.ovf\t-> /content/std_prob_2.out/m000003.vts\n",
            "[ ok ] /content/std_prob_2.out/m000005.ovf\t-> /content/std_prob_2.out/m000005.vts\n",
            "[ ok ] /content/std_prob_2.out/m000004.ovf\t-> /content/std_prob_2.out/m000004.vts\n",
            "[ ok ] /content/std_prob_2.out/m000006.ovf\t-> /content/std_prob_2.out/m000006.vts\n",
            "[ ok ] /content/std_prob_2.out/m000007.ovf\t-> /content/std_prob_2.out/m000007.vts\n",
            "[ ok ] /content/std_prob_2.out/m000008.ovf\t-> /content/std_prob_2.out/m000008.vts\n",
            "[ ok ] /content/std_prob_2.out/m000009.ovf\t-> /content/std_prob_2.out/m000009.vts\n",
            "[ ok ] /content/std_prob_2.out/m000010.ovf\t-> /content/std_prob_2.out/m000010.vts\n",
            "[ ok ] /content/std_prob_2.out/m000011.ovf\t-> /content/std_prob_2.out/m000011.vts\n",
            "[ ok ] /content/std_prob_2.out/m000012.ovf\t-> /content/std_prob_2.out/m000012.vts\n",
            "[ ok ] /content/std_prob_2.out/m000014.ovf\t-> /content/std_prob_2.out/m000014.vts\n",
            "[ ok ] /content/std_prob_2.out/m000013.ovf\t-> /content/std_prob_2.out/m000013.vts\n",
            "[ ok ] /content/std_prob_2.out/m000015.ovf\t-> /content/std_prob_2.out/m000015.vts\n",
            "[ ok ] /content/std_prob_2.out/m000016.ovf\t-> /content/std_prob_2.out/m000016.vts\n",
            "[ ok ] /content/std_prob_2.out/m_initial.ovf\t-> /content/std_prob_2.out/m_initial.vts\n",
            "[ ok ] /content/std_prob_2.out/m_relaxed.ovf\t-> /content/std_prob_2.out/m_relaxed.vts\n",
            "19 files converted,  0 skipped,  0 failed\n"
          ]
        }
      ]
    },
    {
      "cell_type": "code",
      "metadata": {
        "id": "LQIHbzVb_Sya",
        "colab": {
          "base_uri": "https://localhost:8080/"
        },
        "outputId": "9cf5d741-ba6f-47d3-dd87-7e55af7c0b21"
      },
      "source": [
        "!cat /content/std_prob_2.out/table.txt"
      ],
      "execution_count": null,
      "outputs": [
        {
          "output_type": "stream",
          "name": "stdout",
          "text": [
            "# t (s)\tmx ()\tmy ()\tmz ()\tB_extx (T)\tB_exty (T)\tB_extz (T)\n",
            "0\t0.8366589\t0.5177043\t0.11912261\t0.11547005\t0.11547005\t0.11547005\n",
            "0\t0.84650064\t0.5020513\t0.10893634\t0.10392303\t0.10392303\t0.10392303\n",
            "0\t0.8573126\t0.4835291\t0.09839289\t0.092376046\t0.092376046\t0.092376046\n",
            "0\t0.8691863\t0.46144244\t0.08748005\t0.08082903\t0.08082903\t0.08082903\n",
            "0\t0.8822106\t0.4348294\t0.07618617\t0.06928203\t0.06928203\t0.06928203\n",
            "0\t0.896375\t0.40248334\t0.06450109\t0.057735026\t0.057735026\t0.057735026\n",
            "0\t0.9115373\t0.36278507\t0.052416623\t0.046188023\t0.046188023\t0.046188023\n",
            "0\t0.927272\t0.31359664\t0.03992707\t0.034641016\t0.034641016\t0.034641016\n",
            "0\t0.942641\t0.25208497\t0.02702954\t0.023094011\t0.023094011\t0.023094011\n",
            "0\t0.9557905\t0.17441438\t0.013722416\t0.011547006\t0.011547006\t0.011547006\n",
            "0\t0.9631673\t0.07509691\t1.3067269e-17\t1.20185166e-17\t1.20185166e-17\t1.20185166e-17\n",
            "0\t0.957629\t-0.0549355\t-0.014164388\t-0.011547006\t-0.011547006\t-0.011547006\n",
            "0\t0.9219202\t-0.23860845\t-0.028895777\t-0.023094011\t-0.023094011\t-0.023094011\n",
            "0\t-0.927272\t-0.31359643\t-0.03992707\t-0.034641016\t-0.034641016\t-0.034641016\n",
            "0\t-0.91154385\t-0.36277574\t-0.052416623\t-0.046188023\t-0.046188023\t-0.046188023\n",
            "0\t-0.89638066\t-0.40247598\t-0.06450111\t-0.057735026\t-0.057735026\t-0.057735026\n"
          ]
        }
      ]
    },
    {
      "cell_type": "code",
      "metadata": {
        "id": "ZloV6F8jCpMj"
      },
      "source": [
        "import numpy as np\n",
        "import matplotlib.pyplot as plt"
      ],
      "execution_count": null,
      "outputs": []
    },
    {
      "cell_type": "code",
      "metadata": {
        "id": "5SlSN7M_DKQN"
      },
      "source": [
        "data = np.loadtxt('/content/std_prob_2.out/table.txt')"
      ],
      "execution_count": null,
      "outputs": []
    },
    {
      "cell_type": "markdown",
      "metadata": {
        "id": "1AZFL4JdNnmq"
      },
      "source": [
        "## Python calc"
      ]
    },
    {
      "cell_type": "code",
      "metadata": {
        "id": "0HIdGCbRDVIR"
      },
      "source": [
        "m = data[:, 1:4]\n",
        "B = data[:, 4:7]"
      ],
      "execution_count": null,
      "outputs": []
    },
    {
      "cell_type": "code",
      "metadata": {
        "id": "kzs-UbGSDWaQ"
      },
      "source": [
        "m_dot_Bdir = []\n",
        "Bdir = np.array([1., 1., 1.]) / np.sqrt(3)\n",
        "i = 0\n",
        "for row in m:\n",
        "  result = np.dot(row, Bdir)\n",
        "  Bnorm = np.dot(B[i], Bdir)\n",
        "\n",
        "  m_dot_Bdir.append([Bnorm, result])\n",
        "\n",
        "  i += 1\n",
        "\n",
        "m_dot_Bdir = np.array(m_dot_Bdir)"
      ],
      "execution_count": null,
      "outputs": []
    },
    {
      "cell_type": "code",
      "metadata": {
        "id": "krXcIWxFDsed",
        "colab": {
          "base_uri": "https://localhost:8080/"
        },
        "outputId": "843ebb53-7baa-4018-99da-ecfd04d6769f"
      },
      "source": [
        "m_dot_Bdir"
      ],
      "execution_count": null,
      "outputs": [
        {
          "output_type": "execute_result",
          "data": {
            "text/plain": [
              "array([[ 1.99999993e-01,  8.50717429e-01],\n",
              "       [ 1.79999968e-01,  8.41481251e-01],\n",
              "       [ 1.60000005e-01,  8.30942478e-01],\n",
              "       [ 1.39999987e-01,  8.18745492e-01],\n",
              "       [ 1.19999996e-01,  8.04379504e-01],\n",
              "       [ 9.99999984e-02,  7.87135934e-01],\n",
              "       [ 8.00000025e-02,  7.65993115e-01],\n",
              "       [ 5.99999997e-02,  7.39467748e-01],\n",
              "       [ 4.00000004e-02,  7.05380873e-01],\n",
              "       [ 2.00000011e-02,  6.60446732e-01],\n",
              "       [ 2.08166814e-17,  5.99442121e-01],\n",
              "       [-2.00000011e-02,  5.12992522e-01],\n",
              "       [-4.00000004e-02,  3.77827238e-01],\n",
              "       [-5.99999997e-02, -7.39467627e-01],\n",
              "       [-8.00000025e-02, -7.65991510e-01],\n",
              "       [-9.99999984e-02, -7.87134964e-01]])"
            ]
          },
          "metadata": {},
          "execution_count": 48
        }
      ]
    },
    {
      "cell_type": "code",
      "metadata": {
        "id": "dzyqMh_6Eryh",
        "colab": {
          "base_uri": "https://localhost:8080/",
          "height": 282
        },
        "outputId": "c634fc9f-3732-4cef-f250-23538ed9afb1"
      },
      "source": [
        "plt.plot(m_dot_Bdir[:, 0], m_dot_Bdir[:, 1], 'o-')"
      ],
      "execution_count": null,
      "outputs": [
        {
          "output_type": "execute_result",
          "data": {
            "text/plain": [
              "[<matplotlib.lines.Line2D at 0x7fe178ba1290>]"
            ]
          },
          "metadata": {},
          "execution_count": 49
        },
        {
          "output_type": "display_data",
          "data": {
            "image/png": "[encoded data removed]",
            "text/plain": [
              "<Figure size 432x288 with 1 Axes>"
            ]
          },
          "metadata": {
            "needs_background": "light"
          }
        }
      ]
    },
    {
      "cell_type": "markdown",
      "metadata": {
        "id": "lr6X-SKANrf5"
      },
      "source": [
        "## Mumax calc"
      ]
    },
    {
      "cell_type": "code",
      "metadata": {
        "id": "yPgMRbNANyyI",
        "colab": {
          "base_uri": "https://localhost:8080/"
        },
        "outputId": "11603df6-5cd1-454d-9f60-76525a6134c4"
      },
      "source": [
        "!cat /content/std_prob_2.out/table.txt"
      ],
      "execution_count": null,
      "outputs": [
        {
          "output_type": "stream",
          "name": "stdout",
          "text": [
            "# t (s)\tmx ()\tmy ()\tmz ()\tB_extx (T)\tB_exty (T)\tB_extz (T)\tB_norm (T)\tm.Bdir ()\n",
            "0\t0.83665884\t0.5177045\t0.11912261\t0.11547005\t0.11547005\t0.11547005\t0.2\t0.99881303\n",
            "0\t0.84146494\t0.51019955\t0.11407334\t0.10969656\t0.10969656\t0.10969656\t0.19\t0.8507175\n",
            "0\t0.84649986\t0.5020527\t0.10893635\t0.10392303\t0.10392303\t0.10392303\t0.18\t0.84624416\n",
            "0\t0.8517775\t0.49319118\t0.103710055\t0.098149545\t0.098149545\t0.098149545\t0.17\t0.8414816\n",
            "0\t0.85730946\t0.48353553\t0.09839293\t0.092376046\t0.092376046\t0.092376046\t0.16\t0.8363951\n",
            "0\t0.8631101\t0.47298643\t0.09298341\t0.08660254\t0.08660254\t0.08660254\t0.15\t0.8309444\n",
            "0\t0.8691891\t0.46143833\t0.08748005\t0.08082903\t0.08082903\t0.08082903\t0.14\t0.8250797\n",
            "0\t0.87555534\t0.44876534\t0.081881404\t0.07505553\t0.07505553\t0.07505553\t0.13\t0.8187447\n",
            "0\t0.88221085\t0.4348289\t0.07618617\t0.06928203\t0.06928203\t0.06928203\t0.12\t0.8118712\n",
            "0\t0.8891536\t0.41946602\t0.070393115\t0.06350853\t0.06350853\t0.06350853\t0.11\t0.80437934\n",
            "0\t0.89636946\t0.40249467\t0.06450113\t0.057735026\t0.057735026\t0.057735026\t0.1\t0.79617345\n",
            "0\t0.90384907\t0.3836739\t0.058509205\t0.051961515\t0.051961515\t0.051961515\t0.09\t0.78713924\n",
            "0\t0.9115356\t0.36278456\t0.0524166\t0.046188023\t0.046188023\t0.046188023\t0.08\t0.77713203\n",
            "0\t0.9193761\t0.3395355\t0.046222724\t0.040414516\t0.040414516\t0.040414516\t0.07\t0.7659918\n",
            "0\t0.92727196\t0.3135966\t0.03992707\t0.034641016\t0.034641016\t0.034641016\t0.06\t0.75351965\n",
            "0\t0.93509036\t0.2845921\t0.0335294\t0.028867513\t0.028867513\t0.028867513\t0.05\t0.73946774\n",
            "0\t0.94264084\t0.25208527\t0.02702954\t0.023094011\t0.023094011\t0.023094011\t0.04\t0.7235422\n",
            "0\t0.9496582\t0.2155683\t0.020427326\t0.017320508\t0.017320508\t0.017320508\t0.03\t0.705381\n",
            "0\t0.9557905\t0.1744144\t0.013722417\t0.011547006\t0.011547006\t0.011547006\t0.02\t0.6845376\n",
            "0\t0.96052706\t0.1279011\t0.0069139493\t0.005773503\t0.005773503\t0.005773503\t0.01\t0.66044676\n",
            "0\t0.9631706\t0.07508968\t2.2530272e-16\t-1.8027774e-17\t-1.8027774e-17\t-1.8027774e-17\t-3.1225023e-17\t0.6323961\n",
            "0\t0.96271265\t0.01474011\t-0.0070234286\t-0.005773503\t-0.005773503\t-0.005773503\t-0.01\t0.59943986\n",
            "0\t0.95762914\t-0.054935865\t-0.014164386\t-0.011547006\t-0.011547006\t-0.011547006\t-0.02\t0.56027764\n",
            "0\t0.94543004\t-0.13690984\t-0.021439688\t-0.017320508\t-0.017320508\t-0.017320508\t-0.03\t0.5129924\n",
            "0\t0.92192006\t-0.23860829\t-0.028895779\t-0.023094011\t-0.023094011\t-0.023094011\t-0.04\t0.45442113\n",
            "0\t-0.93509746\t-0.2845805\t-0.033529405\t-0.028867513\t-0.028867513\t-0.028867513\t-0.05\t0.3778273\n",
            "0\t-0.9272791\t-0.3135849\t-0.039927073\t-0.034641016\t-0.034641016\t-0.034641016\t-0.06\t-0.7235396\n",
            "0\t-0.91938317\t-0.33952418\t-0.04622272\t-0.040414516\t-0.040414516\t-0.040414516\t-0.07\t-0.73946506\n",
            "0\t-0.911544\t-0.36277488\t-0.052416615\t-0.046188023\t-0.046188023\t-0.046188023\t-0.08\t-0.75351715\n",
            "0\t-0.9038558\t-0.38366342\t-0.0585092\t-0.051961515\t-0.051961515\t-0.051961515\t-0.09\t-0.7659911\n"
          ]
        }
      ]
    },
    {
      "cell_type": "code",
      "metadata": {
        "id": "gJn-JC7OFFu8"
      },
      "source": [
        "data_table = np.loadtxt('/content/std_prob_2.out/table.txt')"
      ],
      "execution_count": null,
      "outputs": []
    },
    {
      "cell_type": "code",
      "metadata": {
        "id": "lht6N9RZOUkn",
        "colab": {
          "base_uri": "https://localhost:8080/"
        },
        "outputId": "8e4d74b0-a787-4b37-87ee-334a7697fc3e"
      },
      "source": [
        "data_table[0]"
      ],
      "execution_count": null,
      "outputs": [
        {
          "output_type": "execute_result",
          "data": {
            "text/plain": [
              "array([0.        , 0.83665884, 0.5177045 , 0.11912261, 0.11547005,\n",
              "       0.11547005, 0.11547005, 0.2       , 0.99881303])"
            ]
          },
          "metadata": {},
          "execution_count": 57
        }
      ]
    },
    {
      "cell_type": "code",
      "metadata": {
        "id": "ZlFA204iOWtC"
      },
      "source": [
        "Bnorm = data_table[:, 7]\n",
        "m_dot_Bdir = data_table[:, -1]"
      ],
      "execution_count": null,
      "outputs": []
    },
    {
      "cell_type": "code",
      "metadata": {
        "id": "fWoCklClOmqW",
        "colab": {
          "base_uri": "https://localhost:8080/",
          "height": 282
        },
        "outputId": "1f264c9c-5c59-4fe3-9b6f-cdcbb4baab26"
      },
      "source": [
        "plt.plot(Bnorm, m_dot_Bdir, 'o-', c='red')"
      ],
      "execution_count": null,
      "outputs": [
        {
          "output_type": "execute_result",
          "data": {
            "text/plain": [
              "[<matplotlib.lines.Line2D at 0x7fe1785f7650>]"
            ]
          },
          "metadata": {},
          "execution_count": 60
        },
        {
          "output_type": "display_data",
          "data": {
            "image/png": "[encoded data removed]",
            "text/plain": [
              "<Figure size 432x288 with 1 Axes>"
            ]
          },
          "metadata": {
            "needs_background": "light"
          }
        }
      ]
    },
    {
      "cell_type": "code",
      "metadata": {
        "id": "WUbNOlnOO1Qy"
      },
      "source": [
        "!mumax3-convert -png -arrows 16 /content/std_prob_2.out/m*.ovf"
      ],
      "execution_count": null,
      "outputs": []
    },
    {
      "cell_type": "code",
      "metadata": {
        "id": "08P9pMwpPocE",
        "colab": {
          "base_uri": "https://localhost:8080/",
          "height": 81
        },
        "outputId": "cb789f82-b778-4ced-f1b0-5f28a1ac6fe5"
      },
      "source": [
        "Image('/content/std_prob_2.out/m000024.png')"
      ],
      "execution_count": null,
      "outputs": [
        {
          "output_type": "execute_result",
          "data": {
            "image/png": "[encoded data removed]",
            "text/plain": [
              "<IPython.core.display.Image object>"
            ]
          },
          "metadata": {},
          "execution_count": 70
        }
      ]
    },
    {
      "cell_type": "code",
      "metadata": {
        "id": "57rFHzdrPOdw",
        "colab": {
          "base_uri": "https://localhost:8080/",
          "height": 81
        },
        "outputId": "f62f2313-312c-47ab-a0bf-063e94673abe"
      },
      "source": [
        "Image('/content/std_prob_2.out/m000025.png')"
      ],
      "execution_count": null,
      "outputs": [
        {
          "output_type": "execute_result",
          "data": {
            "image/png": "[encoded data removed]",
            "text/plain": [
              "<IPython.core.display.Image object>"
            ]
          },
          "metadata": {},
          "execution_count": 69
        }
      ]
    },
    {
      "cell_type": "code",
      "metadata": {
        "id": "vb_yu6wBPWr0"
      },
      "source": [
        ""
      ],
      "execution_count": null,
      "outputs": []
    },
    {
      "cell_type": "markdown",
      "metadata": {
        "id": "H-6MbShzSeIt"
      },
      "source": [
        "# Std problem 3"
      ]
    },
    {
      "cell_type": "code",
      "metadata": {
        "id": "sMbaXxj2ToHL"
      },
      "source": [
        "from IPython.display import Image"
      ],
      "execution_count": null,
      "outputs": []
    },
    {
      "cell_type": "code",
      "metadata": {
        "id": "31s373tlVyvi"
      },
      "source": [
        "!rm -r /content/std_prob_3.out"
      ],
      "execution_count": null,
      "outputs": []
    },
    {
      "cell_type": "code",
      "metadata": {
        "colab": {
          "base_uri": "https://localhost:8080/"
        },
        "id": "pOcxaCP9SgE-",
        "outputId": "78de514b-cf67-468c-e81d-c64cdf3022ac"
      },
      "source": [
        "!mumax3 std_prob_3.mx3"
      ],
      "execution_count": null,
      "outputs": [
        {
          "output_type": "stream",
          "name": "stdout",
          "text": [
            "//mumax 3.10 [linux_amd64 go1.14(gc) CUDA-10.1]\n",
            "//GPU info: Tesla K80(11441MB), CUDA Driver 11.2, cc=3.7, using cc=37 PTX\n",
            "//(c) Arne Vansteenkiste, Dynamat LAB, Ghent University, Belgium\n",
            "//This is free software without any warranty. See license.txt\n",
            "//********************************************************************//\n",
            "//  If you use mumax in any work or publication,                      //\n",
            "//  we kindly ask you to cite the references in references.bib        //\n",
            "//********************************************************************//\n",
            "//output directory: std_prob_3.out/\n",
            "//starting GUI at http://127.0.0.1:35367\n",
            "N := 64\n",
            "SetGridSize(N, N, N)\n",
            "Lmin := 8.0\n",
            "Lmax := 9.0\n",
            "Lstep := 0.05\n",
            "L := Lmin\n",
            "setcellsize(L/N, L/N, L/N)\n",
            "m = vortex(1, -1)\n",
            "SnapshotAs(m, \"initial_state\")\n",
            "Msat = sqrt(2 / mu0)\n",
            "Aex = 1.0\n",
            "Ku1 = 0.1\n",
            "anisU = vector(1, 0, 0)\n",
            "tableadd(E_total)\n",
            "tableaddvar(L, \"L\", \"\")\n",
            "simname := sprintf(\"\")\n",
            "for L = Lmin; L <= Lmax; L += Lstep {\n",
            "\tsetcellsize(L/N, L/N, L/N)\n",
            "\tminimize()\n",
            "\tsimname = sprintf(\"vortex_%06.0f\", L*100)\n",
            "\tsaveas(m, simname)\n",
            "\ttablesave()\n",
            "}\n",
            "//resizing...\n",
            "// Initializing geometry 0 %\n",
            "// Initializing geometry 100 %\n",
            "//Using cached kernel: /tmp/mumax3kernel_[64 64 64]_[0 0 0]_[0.125 0.125 0.125]_6_\n",
            "//resizing...\n",
            "// Initializing geometry 0 %\n",
            "// Initializing geometry 100 %\n",
            "//Using cached kernel: /tmp/mumax3kernel_[64 64 64]_[0 0 0]_[0.12578125 0.12578125 0.12578125]_6_\n",
            "//resizing...\n",
            "// Initializing geometry 0 %\n",
            "// Initializing geometry 100 %\n",
            "//Using cached kernel: /tmp/mumax3kernel_[64 64 64]_[0 0 0]_[0.12656250000000002 0.12656250000000002 0.12656250000000002]_6_\n",
            "//resizing...\n",
            "// Initializing geometry 0 %\n",
            "// Initializing geometry 100 %\n",
            "//Using cached kernel: /tmp/mumax3kernel_[64 64 64]_[0 0 0]_[0.12734375000000003 0.12734375000000003 0.12734375000000003]_6_\n",
            "//resizing...\n",
            "// Initializing geometry 0 %\n",
            "// Initializing geometry 100 %\n",
            "//Did not use cached kernel: open /tmp/mumax3kernel_[64 64 64]_[0 0 0]_[0.12812500000000004 0.12812500000000004 0.12812500000000004]_6_0 0.ovf: no such file or directory\n",
            "//Cached kernel: /tmp/mumax3kernel_[64 64 64]_[0 0 0]_[0.12812500000000004 0.12812500000000004 0.12812500000000004]_6_\n",
            "//resizing...\n",
            "// Initializing geometry 0 %\n",
            "// Initializing geometry 100 %\n",
            "//Did not use cached kernel: open /tmp/mumax3kernel_[64 64 64]_[0 0 0]_[0.12890625000000006 0.12890625000000006 0.12890625000000006]_6_0 0.ovf: no such file or directory\n",
            "//Cached kernel: /tmp/mumax3kernel_[64 64 64]_[0 0 0]_[0.12890625000000006 0.12890625000000006 0.12890625000000006]_6_\n",
            "//resizing...\n",
            "// Initializing geometry 0 %\n",
            "// Initializing geometry 100 %\n",
            "//Did not use cached kernel: open /tmp/mumax3kernel_[64 64 64]_[0 0 0]_[0.12968750000000007 0.12968750000000007 0.12968750000000007]_6_0 0.ovf: no such file or directory\n",
            "//Cached kernel: /tmp/mumax3kernel_[64 64 64]_[0 0 0]_[0.12968750000000007 0.12968750000000007 0.12968750000000007]_6_\n",
            "//resizing...\n",
            "// Initializing geometry 0 %\n",
            "// Initializing geometry 100 %\n",
            "//Did not use cached kernel: open /tmp/mumax3kernel_[64 64 64]_[0 0 0]_[0.13046875000000008 0.13046875000000008 0.13046875000000008]_6_0 0.ovf: no such file or directory\n",
            "//Cached kernel: /tmp/mumax3kernel_[64 64 64]_[0 0 0]_[0.13046875000000008 0.13046875000000008 0.13046875000000008]_6_\n",
            "//resizing...\n",
            "// Initializing geometry 0 %\n",
            "// Initializing geometry 100 %\n",
            "//Did not use cached kernel: open /tmp/mumax3kernel_[64 64 64]_[0 0 0]_[0.1312500000000001 0.1312500000000001 0.1312500000000001]_6_0 0.ovf: no such file or directory\n",
            "//Cached kernel: /tmp/mumax3kernel_[64 64 64]_[0 0 0]_[0.1312500000000001 0.1312500000000001 0.1312500000000001]_6_\n",
            "//resizing...\n",
            "// Initializing geometry 0 %\n",
            "// Initializing geometry 100 %\n",
            "//Did not use cached kernel: open /tmp/mumax3kernel_[64 64 64]_[0 0 0]_[0.1320312500000001 0.1320312500000001 0.1320312500000001]_6_0 0.ovf: no such file or directory\n",
            "//Cached kernel: /tmp/mumax3kernel_[64 64 64]_[0 0 0]_[0.1320312500000001 0.1320312500000001 0.1320312500000001]_6_\n",
            "//resizing...\n",
            "// Initializing geometry 0 %\n",
            "// Initializing geometry 100 %\n",
            "//Did not use cached kernel: open /tmp/mumax3kernel_[64 64 64]_[0 0 0]_[0.1328125000000001 0.1328125000000001 0.1328125000000001]_6_0 0.ovf: no such file or directory\n",
            "//Cached kernel: /tmp/mumax3kernel_[64 64 64]_[0 0 0]_[0.1328125000000001 0.1328125000000001 0.1328125000000001]_6_\n",
            "//resizing...\n",
            "// Initializing geometry 0 %\n",
            "// Initializing geometry 100 %\n",
            "//Did not use cached kernel: open /tmp/mumax3kernel_[64 64 64]_[0 0 0]_[0.13359375000000012 0.13359375000000012 0.13359375000000012]_6_0 0.ovf: no such file or directory\n",
            "//Cached kernel: /tmp/mumax3kernel_[64 64 64]_[0 0 0]_[0.13359375000000012 0.13359375000000012 0.13359375000000012]_6_\n",
            "//resizing...\n",
            "// Initializing geometry 0 %\n",
            "// Initializing geometry 100 %\n",
            "//Did not use cached kernel: open /tmp/mumax3kernel_[64 64 64]_[0 0 0]_[0.13437500000000013 0.13437500000000013 0.13437500000000013]_6_0 0.ovf: no such file or directory\n",
            "//Cached kernel: /tmp/mumax3kernel_[64 64 64]_[0 0 0]_[0.13437500000000013 0.13437500000000013 0.13437500000000013]_6_\n",
            "//resizing...\n",
            "// Initializing geometry 0 %\n",
            "// Initializing geometry 100 %\n",
            "//Did not use cached kernel: open /tmp/mumax3kernel_[64 64 64]_[0 0 0]_[0.13515625000000014 0.13515625000000014 0.13515625000000014]_6_0 0.ovf: no such file or directory\n",
            "//Cached kernel: /tmp/mumax3kernel_[64 64 64]_[0 0 0]_[0.13515625000000014 0.13515625000000014 0.13515625000000014]_6_\n",
            "//resizing...\n",
            "// Initializing geometry 0 %\n",
            "// Initializing geometry 100 %\n",
            "//Did not use cached kernel: open /tmp/mumax3kernel_[64 64 64]_[0 0 0]_[0.13593750000000016 0.13593750000000016 0.13593750000000016]_6_0 0.ovf: no such file or directory\n",
            "//Cached kernel: /tmp/mumax3kernel_[64 64 64]_[0 0 0]_[0.13593750000000016 0.13593750000000016 0.13593750000000016]_6_\n",
            "//resizing...\n",
            "// Initializing geometry 0 %\n",
            "// Initializing geometry 100 %\n",
            "//Did not use cached kernel: open /tmp/mumax3kernel_[64 64 64]_[0 0 0]_[0.13671875000000017 0.13671875000000017 0.13671875000000017]_6_0 0.ovf: no such file or directory\n",
            "//Cached kernel: /tmp/mumax3kernel_[64 64 64]_[0 0 0]_[0.13671875000000017 0.13671875000000017 0.13671875000000017]_6_\n",
            "//resizing...\n",
            "// Initializing geometry 0 %\n",
            "// Initializing geometry 100 %\n",
            "//Did not use cached kernel: open /tmp/mumax3kernel_[64 64 64]_[0 0 0]_[0.13750000000000018 0.13750000000000018 0.13750000000000018]_6_0 0.ovf: no such file or directory\n",
            "//Cached kernel: /tmp/mumax3kernel_[64 64 64]_[0 0 0]_[0.13750000000000018 0.13750000000000018 0.13750000000000018]_6_\n",
            "//resizing...\n",
            "// Initializing geometry 0 %\n",
            "// Initializing geometry 100 %\n",
            "//Did not use cached kernel: open /tmp/mumax3kernel_[64 64 64]_[0 0 0]_[0.1382812500000002 0.1382812500000002 0.1382812500000002]_6_0 0.ovf: no such file or directory\n",
            "//Cached kernel: /tmp/mumax3kernel_[64 64 64]_[0 0 0]_[0.1382812500000002 0.1382812500000002 0.1382812500000002]_6_\n",
            "//resizing...\n",
            "// Initializing geometry 0 %\n",
            "// Initializing geometry 100 %\n",
            "//Did not use cached kernel: open /tmp/mumax3kernel_[64 64 64]_[0 0 0]_[0.1390625000000002 0.1390625000000002 0.1390625000000002]_6_0 0.ovf: no such file or directory\n",
            "//Cached kernel: /tmp/mumax3kernel_[64 64 64]_[0 0 0]_[0.1390625000000002 0.1390625000000002 0.1390625000000002]_6_\n",
            "//resizing...\n",
            "// Initializing geometry 0 %\n",
            "// Initializing geometry 100 %\n",
            "//Did not use cached kernel: open /tmp/mumax3kernel_[64 64 64]_[0 0 0]_[0.1398437500000002 0.1398437500000002 0.1398437500000002]_6_0 0.ovf: no such file or directory\n",
            "//Cached kernel: /tmp/mumax3kernel_[64 64 64]_[0 0 0]_[0.1398437500000002 0.1398437500000002 0.1398437500000002]_6_\n",
            "//********************************************************************//\n",
            "//Please cite the following references, relevant for your simulation. //\n",
            "//See bibtex file in output folder for justification.                 //\n",
            "//********************************************************************//\n",
            "//   * Vansteenkiste et al., AIP Adv. 4, 107133 (2014).\n",
            "//   * Exl et al., J. Appl. Phys. 115, 17D118 (2014).\n"
          ]
        }
      ]
    },
    {
      "cell_type": "code",
      "metadata": {
        "colab": {
          "base_uri": "https://localhost:8080/"
        },
        "id": "BcIYehNIXvtn",
        "outputId": "51cdf5cb-a317-4ab9-f458-f38e1109d0b8"
      },
      "source": [
        "!mumax3 std_prob_3_uniform.mx3"
      ],
      "execution_count": null,
      "outputs": [
        {
          "output_type": "stream",
          "name": "stdout",
          "text": [
            "//mumax 3.10 [linux_amd64 go1.14(gc) CUDA-10.1]\n",
            "//GPU info: Tesla K80(11441MB), CUDA Driver 11.2, cc=3.7, using cc=37 PTX\n",
            "//(c) Arne Vansteenkiste, Dynamat LAB, Ghent University, Belgium\n",
            "//This is free software without any warranty. See license.txt\n",
            "//********************************************************************//\n",
            "//  If you use mumax in any work or publication,                      //\n",
            "//  we kindly ask you to cite the references in references.bib        //\n",
            "//********************************************************************//\n",
            "//output directory: std_prob_3_uniform.out/\n",
            "//starting GUI at http://127.0.0.1:35367\n",
            "N := 64\n",
            "SetGridSize(N, N, N)\n",
            "Lmin := 8.0\n",
            "Lmax := 9.0\n",
            "Lstep := 0.05\n",
            "L := Lmin\n",
            "setcellsize(L/N, L/N, L/N)\n",
            "m = uniform(1, 0.01, 0)\n",
            "SnapshotAs(m, \"initial_state\")\n",
            "Msat = sqrt(2 / mu0)\n",
            "Aex = 1.0\n",
            "Ku1 = 0.1\n",
            "anisU = vector(1, 0, 0)\n",
            "tableadd(E_total)\n",
            "tableaddvar(L, \"L\", \"\")\n",
            "simname := sprintf(\"\")\n",
            "for L = Lmin; L <= Lmax; L += Lstep {\n",
            "\tsetcellsize(L/N, L/N, L/N)\n",
            "\tminimize()\n",
            "\tsimname = sprintf(\"flower_%06.0f\", L*100)\n",
            "\tsaveas(m, simname)\n",
            "\ttablesave()\n",
            "}\n",
            "//resizing...\n",
            "// Initializing geometry 0 %\n",
            "// Initializing geometry 100 %\n",
            "//Using cached kernel: /tmp/mumax3kernel_[64 64 64]_[0 0 0]_[0.125 0.125 0.125]_6_\n",
            "//resizing...\n",
            "// Initializing geometry 0 %\n",
            "// Initializing geometry 100 %\n",
            "//Using cached kernel: /tmp/mumax3kernel_[64 64 64]_[0 0 0]_[0.12578125 0.12578125 0.12578125]_6_\n",
            "//resizing...\n",
            "// Initializing geometry 0 %\n",
            "// Initializing geometry 100 %\n",
            "//Using cached kernel: /tmp/mumax3kernel_[64 64 64]_[0 0 0]_[0.12656250000000002 0.12656250000000002 0.12656250000000002]_6_\n",
            "//resizing...\n",
            "// Initializing geometry 0 %\n",
            "// Initializing geometry 100 %\n",
            "//Using cached kernel: /tmp/mumax3kernel_[64 64 64]_[0 0 0]_[0.12734375000000003 0.12734375000000003 0.12734375000000003]_6_\n",
            "//resizing...\n",
            "//Using cached kernel: /tmp/mumax3kernel_[64 64 64]_[0 0 0]_[0.12812500000000004 0.12812500000000004 0.12812500000000004]_6_\n",
            "//resizing...\n",
            "// Initializing geometry 0 %\n",
            "// Initializing geometry 100 %\n",
            "//Using cached kernel: /tmp/mumax3kernel_[64 64 64]_[0 0 0]_[0.12890625000000006 0.12890625000000006 0.12890625000000006]_6_\n",
            "//resizing...\n",
            "//Using cached kernel: /tmp/mumax3kernel_[64 64 64]_[0 0 0]_[0.12968750000000007 0.12968750000000007 0.12968750000000007]_6_\n",
            "//resizing...\n",
            "// Initializing geometry 0 %\n",
            "// Initializing geometry 100 %\n",
            "//Using cached kernel: /tmp/mumax3kernel_[64 64 64]_[0 0 0]_[0.13046875000000008 0.13046875000000008 0.13046875000000008]_6_\n",
            "//resizing...\n",
            "//Using cached kernel: /tmp/mumax3kernel_[64 64 64]_[0 0 0]_[0.1312500000000001 0.1312500000000001 0.1312500000000001]_6_\n",
            "//resizing...\n",
            "// Initializing geometry 0 %\n",
            "// Initializing geometry 100 %\n",
            "//Using cached kernel: /tmp/mumax3kernel_[64 64 64]_[0 0 0]_[0.1320312500000001 0.1320312500000001 0.1320312500000001]_6_\n",
            "//resizing...\n",
            "//Using cached kernel: /tmp/mumax3kernel_[64 64 64]_[0 0 0]_[0.1328125000000001 0.1328125000000001 0.1328125000000001]_6_\n",
            "//resizing...\n",
            "// Initializing geometry 0 %\n",
            "// Initializing geometry 100 %\n",
            "//Using cached kernel: /tmp/mumax3kernel_[64 64 64]_[0 0 0]_[0.13359375000000012 0.13359375000000012 0.13359375000000012]_6_\n",
            "//resizing...\n",
            "//Using cached kernel: /tmp/mumax3kernel_[64 64 64]_[0 0 0]_[0.13437500000000013 0.13437500000000013 0.13437500000000013]_6_\n",
            "//resizing...\n",
            "// Initializing geometry 0 %\n",
            "// Initializing geometry 100 %\n",
            "//Using cached kernel: /tmp/mumax3kernel_[64 64 64]_[0 0 0]_[0.13515625000000014 0.13515625000000014 0.13515625000000014]_6_\n",
            "//resizing...\n",
            "//Using cached kernel: /tmp/mumax3kernel_[64 64 64]_[0 0 0]_[0.13593750000000016 0.13593750000000016 0.13593750000000016]_6_\n",
            "//resizing...\n",
            "// Initializing geometry 0 %\n",
            "// Initializing geometry 100 %\n",
            "//Using cached kernel: /tmp/mumax3kernel_[64 64 64]_[0 0 0]_[0.13671875000000017 0.13671875000000017 0.13671875000000017]_6_\n",
            "//resizing...\n",
            "//Using cached kernel: /tmp/mumax3kernel_[64 64 64]_[0 0 0]_[0.13750000000000018 0.13750000000000018 0.13750000000000018]_6_\n",
            "//resizing...\n",
            "// Initializing geometry 0 %\n",
            "// Initializing geometry 100 %\n",
            "//Using cached kernel: /tmp/mumax3kernel_[64 64 64]_[0 0 0]_[0.1382812500000002 0.1382812500000002 0.1382812500000002]_6_\n",
            "//resizing...\n",
            "//Using cached kernel: /tmp/mumax3kernel_[64 64 64]_[0 0 0]_[0.1390625000000002 0.1390625000000002 0.1390625000000002]_6_\n",
            "//resizing...\n",
            "// Initializing geometry 0 %\n",
            "// Initializing geometry 100 %\n",
            "//Using cached kernel: /tmp/mumax3kernel_[64 64 64]_[0 0 0]_[0.1398437500000002 0.1398437500000002 0.1398437500000002]_6_\n",
            "//********************************************************************//\n",
            "//Please cite the following references, relevant for your simulation. //\n",
            "//See bibtex file in output folder for justification.                 //\n",
            "//********************************************************************//\n",
            "//   * Vansteenkiste et al., AIP Adv. 4, 107133 (2014).\n",
            "//   * Exl et al., J. Appl. Phys. 115, 17D118 (2014).\n"
          ]
        }
      ]
    },
    {
      "cell_type": "code",
      "metadata": {
        "colab": {
          "base_uri": "https://localhost:8080/"
        },
        "id": "DQ2JV3XoYJVe",
        "outputId": "e91b3139-6fe9-4c6e-901d-320969194de4"
      },
      "source": [
        "!mumax3-convert -png std_prob_3.out/vortex*.ovf"
      ],
      "execution_count": null,
      "outputs": [
        {
          "output_type": "stream",
          "name": "stdout",
          "text": [
            "std_prob_3.out/vortex_000800.ovf\n",
            "std_prob_3.out/vortex_000805.ovf\n",
            "std_prob_3.out/vortex_000810.ovf\n",
            "std_prob_3.out/vortex_000815.ovf\n",
            "std_prob_3.out/vortex_000820.ovf\n",
            "std_prob_3.out/vortex_000825.ovf\n",
            "std_prob_3.out/vortex_000830.ovf\n",
            "std_prob_3.out/vortex_000835.ovf\n",
            "std_prob_3.out/vortex_000840.ovf\n",
            "std_prob_3.out/vortex_000845.ovf\n",
            "std_prob_3.out/vortex_000850.ovf\n",
            "std_prob_3.out/vortex_000855.ovf\n",
            "std_prob_3.out/vortex_000860.ovf\n",
            "std_prob_3.out/vortex_000865.ovf\n",
            "std_prob_3.out/vortex_000870.ovf\n",
            "std_prob_3.out/vortex_000875.ovf\n",
            "std_prob_3.out/vortex_000880.ovf\n",
            "std_prob_3.out/vortex_000885.ovf\n",
            "std_prob_3.out/vortex_000890.ovf\n",
            "std_prob_3.out/vortex_000895.ovf\n",
            "[ ok ] std_prob_3.out/vortex_000800.ovf\t-> std_prob_3.out/vortex_000800.png\n",
            "[ ok ] std_prob_3.out/vortex_000810.ovf\t-> std_prob_3.out/vortex_000810.png\n",
            "[ ok ] std_prob_3.out/vortex_000805.ovf\t-> std_prob_3.out/vortex_000805.png\n",
            "[ ok ] std_prob_3.out/vortex_000815.ovf\t-> std_prob_3.out/vortex_000815.png\n",
            "[ ok ] std_prob_3.out/vortex_000820.ovf\t-> std_prob_3.out/vortex_000820.png\n",
            "[ ok ] std_prob_3.out/vortex_000825.ovf\t-> std_prob_3.out/vortex_000825.png\n",
            "[ ok ] std_prob_3.out/vortex_000835.ovf\t-> std_prob_3.out/vortex_000835.png\n",
            "[ ok ] std_prob_3.out/vortex_000840.ovf\t-> std_prob_3.out/vortex_000840.png\n",
            "[ ok ] std_prob_3.out/vortex_000830.ovf\t-> std_prob_3.out/vortex_000830.png\n",
            "[ ok ] std_prob_3.out/vortex_000845.ovf\t-> std_prob_3.out/vortex_000845.png\n",
            "[ ok ] std_prob_3.out/vortex_000855.ovf\t-> std_prob_3.out/vortex_000855.png\n",
            "[ ok ] std_prob_3.out/vortex_000850.ovf\t-> std_prob_3.out/vortex_000850.png\n",
            "[ ok ] std_prob_3.out/vortex_000860.ovf\t-> std_prob_3.out/vortex_000860.png\n",
            "[ ok ] std_prob_3.out/vortex_000865.ovf\t-> std_prob_3.out/vortex_000865.png\n",
            "[ ok ] std_prob_3.out/vortex_000870.ovf\t-> std_prob_3.out/vortex_000870.png\n",
            "[ ok ] std_prob_3.out/vortex_000875.ovf\t-> std_prob_3.out/vortex_000875.png\n",
            "[ ok ] std_prob_3.out/vortex_000880.ovf\t-> std_prob_3.out/vortex_000880.png\n",
            "[ ok ] std_prob_3.out/vortex_000885.ovf\t-> std_prob_3.out/vortex_000885.png\n",
            "[ ok ] std_prob_3.out/vortex_000890.ovf\t-> std_prob_3.out/vortex_000890.png\n",
            "[ ok ] std_prob_3.out/vortex_000895.ovf\t-> std_prob_3.out/vortex_000895.png\n",
            "20 files converted,  0 skipped,  0 failed\n"
          ]
        }
      ]
    },
    {
      "cell_type": "code",
      "metadata": {
        "colab": {
          "base_uri": "https://localhost:8080/"
        },
        "id": "mVPv7AdZYVs4",
        "outputId": "f19695ff-70a1-4da8-8e76-356017f798e6"
      },
      "source": [
        "!mumax3-convert -png std_prob_3_uniform.out/flower*.ovf"
      ],
      "execution_count": null,
      "outputs": [
        {
          "output_type": "stream",
          "name": "stdout",
          "text": [
            "std_prob_3_uniform.out/flower_000800.ovf\n",
            "std_prob_3_uniform.out/flower_000805.ovf\n",
            "std_prob_3_uniform.out/flower_000810.ovf\n",
            "std_prob_3_uniform.out/flower_000815.ovf\n",
            "std_prob_3_uniform.out/flower_000820.ovf\n",
            "std_prob_3_uniform.out/flower_000825.ovf\n",
            "std_prob_3_uniform.out/flower_000830.ovf\n",
            "std_prob_3_uniform.out/flower_000835.ovf\n",
            "std_prob_3_uniform.out/flower_000840.ovf\n",
            "std_prob_3_uniform.out/flower_000845.ovf\n",
            "std_prob_3_uniform.out/flower_000850.ovf\n",
            "std_prob_3_uniform.out/flower_000855.ovf\n",
            "std_prob_3_uniform.out/flower_000860.ovf\n",
            "std_prob_3_uniform.out/flower_000865.ovf\n",
            "std_prob_3_uniform.out/flower_000870.ovf\n",
            "std_prob_3_uniform.out/flower_000875.ovf\n",
            "std_prob_3_uniform.out/flower_000880.ovf\n",
            "std_prob_3_uniform.out/flower_000885.ovf\n",
            "std_prob_3_uniform.out/flower_000890.ovf\n",
            "std_prob_3_uniform.out/flower_000895.ovf\n",
            "[ ok ] std_prob_3_uniform.out/flower_000810.ovf\t-> std_prob_3_uniform.out/flower_000810.png\n",
            "[ ok ] std_prob_3_uniform.out/flower_000805.ovf\t-> std_prob_3_uniform.out/flower_000805.png\n",
            "[ ok ] std_prob_3_uniform.out/flower_000800.ovf\t-> std_prob_3_uniform.out/flower_000800.png\n",
            "[ ok ] std_prob_3_uniform.out/flower_000815.ovf\t-> std_prob_3_uniform.out/flower_000815.png\n",
            "[ ok ] std_prob_3_uniform.out/flower_000825.ovf\t-> std_prob_3_uniform.out/flower_000825.png\n",
            "[ ok ] std_prob_3_uniform.out/flower_000820.ovf\t-> std_prob_3_uniform.out/flower_000820.png\n",
            "[ ok ] std_prob_3_uniform.out/flower_000840.ovf\t-> std_prob_3_uniform.out/flower_000840.png\n",
            "[ ok ] std_prob_3_uniform.out/flower_000835.ovf\t-> std_prob_3_uniform.out/flower_000835.png\n",
            "[ ok ] std_prob_3_uniform.out/flower_000830.ovf\t-> std_prob_3_uniform.out/flower_000830.png\n",
            "[ ok ] std_prob_3_uniform.out/flower_000855.ovf\t-> std_prob_3_uniform.out/flower_000855.png\n",
            "[ ok ] std_prob_3_uniform.out/flower_000845.ovf\t-> std_prob_3_uniform.out/flower_000845.png\n",
            "[ ok ] std_prob_3_uniform.out/flower_000850.ovf\t-> std_prob_3_uniform.out/flower_000850.png\n",
            "[ ok ] std_prob_3_uniform.out/flower_000860.ovf\t-> std_prob_3_uniform.out/flower_000860.png\n",
            "[ ok ] std_prob_3_uniform.out/flower_000870.ovf\t-> std_prob_3_uniform.out/flower_000870.png\n",
            "[ ok ] std_prob_3_uniform.out/flower_000865.ovf\t-> std_prob_3_uniform.out/flower_000865.png\n",
            "[ ok ] std_prob_3_uniform.out/flower_000885.ovf\t-> std_prob_3_uniform.out/flower_000885.png\n",
            "[ ok ] std_prob_3_uniform.out/flower_000875.ovf\t-> std_prob_3_uniform.out/flower_000875.png\n",
            "[ ok ] std_prob_3_uniform.out/flower_000880.ovf\t-> std_prob_3_uniform.out/flower_000880.png\n",
            "[ ok ] std_prob_3_uniform.out/flower_000895.ovf\t-> std_prob_3_uniform.out/flower_000895.png\n",
            "[ ok ] std_prob_3_uniform.out/flower_000890.ovf\t-> std_prob_3_uniform.out/flower_000890.png\n",
            "20 files converted,  0 skipped,  0 failed\n"
          ]
        }
      ]
    },
    {
      "cell_type": "code",
      "metadata": {
        "colab": {
          "base_uri": "https://localhost:8080/",
          "height": 81
        },
        "id": "AdLs3u7HTQjN",
        "outputId": "216964f8-6291-4303-c315-ddaf2c87db97"
      },
      "source": [
        "Image(\"std_prob_3.out/vortex_000800.png\")"
      ],
      "execution_count": null,
      "outputs": [
        {
          "output_type": "execute_result",
          "data": {
            "image/png": "[encoded data removed]",
            "text/plain": [
              "<IPython.core.display.Image object>"
            ]
          },
          "metadata": {},
          "execution_count": 18
        }
      ]
    },
    {
      "cell_type": "code",
      "metadata": {
        "colab": {
          "base_uri": "https://localhost:8080/",
          "height": 81
        },
        "id": "pIQLCvRATmw7",
        "outputId": "b0429bde-4306-4047-8ba7-611e71b67eb3"
      },
      "source": [
        "Image(\"std_prob_3_uniform.out/flower_000800.png\")"
      ],
      "execution_count": null,
      "outputs": [
        {
          "output_type": "execute_result",
          "data": {
            "image/png": "[encoded data removed]",
            "text/plain": [
              "<IPython.core.display.Image object>"
            ]
          },
          "metadata": {},
          "execution_count": 19
        }
      ]
    },
    {
      "cell_type": "code",
      "metadata": {
        "id": "xFBBLrtyYtbp"
      },
      "source": [
        "import numpy as np\n",
        "import matplotlib.pyplot as plt"
      ],
      "execution_count": null,
      "outputs": []
    },
    {
      "cell_type": "code",
      "metadata": {
        "colab": {
          "base_uri": "https://localhost:8080/"
        },
        "id": "_Xy1AbtGY151",
        "outputId": "44ab7fe1-48eb-47b0-d419-b6f8d7bc4b82"
      },
      "source": [
        "!head std_prob_3.out/table.txt"
      ],
      "execution_count": null,
      "outputs": [
        {
          "output_type": "stream",
          "name": "stdout",
          "text": [
            "# t (s)\tmx ()\tmy ()\tmz ()\tE_total (J)\tL ()\n",
            "0\t-1.4156103e-07\t-7.0466194e-07\t-0.41008562\t113.992226\t8\n",
            "0\t-8.940697e-08\t-3.738678e-07\t-0.40370756\t114.98764\t8.05\n",
            "0\t-7.4505806e-08\t-2.0884909e-07\t-0.3970522\t115.97692\t8.1\n",
            "0\t-4.4703484e-08\t-1.1752127e-07\t-0.39043513\t116.96016\t8.15\n",
            "0\t-2.9802322e-08\t-6.5076165e-08\t-0.38397193\t117.93746\t8.2\n",
            "0\t-3.7252903e-08\t-3.4226105e-08\t-0.37766698\t118.90893\t8.25\n",
            "0\t-7.450581e-09\t-2.363231e-08\t-0.371507\t119.87462\t8.3\n",
            "0\t-7.450581e-09\t-1.1175871e-08\t-0.3653751\t120.834694\t8.35\n",
            "0\t1.4901161e-08\t-5.005859e-09\t-0.35949346\t121.7892\t8.4\n"
          ]
        }
      ]
    },
    {
      "cell_type": "code",
      "metadata": {
        "id": "GQd9SJReYEog"
      },
      "source": [
        "data_vortex = np.loadtxt('std_prob_3.out/table.txt')\n",
        "data_flower = np.loadtxt('std_prob_3_uniform.out/table.txt')"
      ],
      "execution_count": null,
      "outputs": []
    },
    {
      "cell_type": "code",
      "metadata": {
        "colab": {
          "base_uri": "https://localhost:8080/",
          "height": 282
        },
        "id": "3L4eB81PZGHT",
        "outputId": "4d1258f3-696a-4536-f946-a1d4677d13d1"
      },
      "source": [
        "plt.plot(data_vortex[:, -1], data_vortex[:, -2], 'o-')\n",
        "plt.plot(data_flower[:, -1], data_flower[:, -2], 's-')"
      ],
      "execution_count": null,
      "outputs": [
        {
          "output_type": "execute_result",
          "data": {
            "text/plain": [
              "[<matplotlib.lines.Line2D at 0x7fa6e03e5c50>]"
            ]
          },
          "metadata": {},
          "execution_count": 23
        },
        {
          "output_type": "display_data",
          "data": {
            "image/png": "[encoded data removed]",
            "text/plain": [
              "<Figure size 432x288 with 1 Axes>"
            ]
          },
          "metadata": {
            "needs_background": "light"
          }
        }
      ]
    },
    {
      "cell_type": "markdown",
      "metadata": {
        "id": "D9vRnghQdZZb"
      },
      "source": [
        "# Std Problem DMI 2D"
      ]
    },
    {
      "cell_type": "code",
      "metadata": {
        "id": "jxmlpOsOFkld"
      },
      "source": [
        "from IPython.display import Image\n",
        "import numpy as np\n",
        "import matplotlib.pyplot as plt"
      ],
      "execution_count": 48,
      "outputs": []
    },
    {
      "cell_type": "code",
      "metadata": {
        "id": "v_pLATE9NW4O"
      },
      "source": [
        "!rm -r /content/std_prob_dmi_2d.out"
      ],
      "execution_count": 49,
      "outputs": []
    },
    {
      "cell_type": "code",
      "metadata": {
        "colab": {
          "base_uri": "https://localhost:8080/"
        },
        "id": "hce_f_pgdYQE",
        "outputId": "3aab8729-3dfd-44ec-9818-61249a200fb1"
      },
      "source": [
        "!mumax3 std_prob_dmi_2d.mx3"
      ],
      "execution_count": 51,
      "outputs": [
        {
          "output_type": "stream",
          "name": "stdout",
          "text": [
            "//mumax 3.10 [linux_amd64 go1.14(gc) CUDA-10.1]\n",
            "//GPU info: Tesla K80(11441MB), CUDA Driver 11.2, cc=3.7, using cc=37 PTX\n",
            "//(c) Arne Vansteenkiste, Dynamat LAB, Ghent University, Belgium\n",
            "//This is free software without any warranty. See license.txt\n",
            "//********************************************************************//\n",
            "//  If you use mumax in any work or publication,                      //\n",
            "//  we kindly ask you to cite the references in references.bib        //\n",
            "//********************************************************************//\n",
            "//output directory: std_prob_dmi_2d.out/\n",
            "//starting GUI at http://127.0.0.1:35367\n",
            "R := 50e-9\n",
            "nx := 50\n",
            "ny := 50\n",
            "nz := 1\n",
            "dx := 2e-9\n",
            "dy := 2e-9\n",
            "dz := 2e-9\n",
            "SetGridSize(nx, ny, nz)\n",
            "SetCellSize(dx, dy, dz)\n",
            "SetGeom(Circle(2 * R))\n",
            "// Initializing geometry 2 %\n",
            "// Initializing geometry 100 %\n",
            "DefRegion(1, circle(R/2))\n",
            "Msat = 860e3\n",
            "Aex = 13e-12\n",
            "Ku1 = 0.4e6\n",
            "anisU = vector(0, 0, 1)\n",
            "Dind = 3e-3\n",
            "NoDemagSpins = 1\n",
            "m.setRegion(0, uniform(0, 0, -1))\n",
            "m.setRegion(1, uniform(0, 0, 1))\n",
            "OutputFormat = OVF2_TEXT\n",
            "TableAdd(ext_topologicalcharge)\n",
            "TableAdd(ext_topologicalchargelattice)\n",
            "minimize()\n",
            "//Using cached kernel: /tmp/mumax3kernel_[50 50 1]_[0 0 0]_[2e-09 2e-09 2e-09]_6_\n",
            "SaveAs(m, \"Skyrmion-Inter\")\n",
            "SaveAs(ext_topologicalchargedensity, \"Skyrmion-Inter-chargedensity\")\n",
            "Snapshot(m)\n",
            "tablesave()\n",
            "print(ext_topologicalchargedensity.average())\n",
            "//1.0743427071045796e+15\n",
            "SaveAs(CropY(m, 24, 25), \"Skyrmion-Inter-centerline\")\n",
            "//********************************************************************//\n",
            "//Please cite the following references, relevant for your simulation. //\n",
            "//See bibtex file in output folder for justification.                 //\n",
            "//********************************************************************//\n",
            "//   * Berg et al., Nucl. Phys. B 190, 412–24 (1981)\n",
            "//   * Vansteenkiste et al., AIP Adv. 4, 107133 (2014).\n",
            "//   * Exl et al., J. Appl. Phys. 115, 17D118 (2014).\n",
            "//   * Mulkers et al., Phys. Rev. B 95, 144401 (2017).\n"
          ]
        }
      ]
    },
    {
      "cell_type": "code",
      "metadata": {
        "colab": {
          "base_uri": "https://localhost:8080/"
        },
        "id": "ZJ2A1mcNGwq1",
        "outputId": "fb8e8624-3fe4-4d22-948a-1fa0ff3f7d08"
      },
      "source": [
        "!cat std_prob_dmi_2d.out/table.txt"
      ],
      "execution_count": 22,
      "outputs": [
        {
          "output_type": "stream",
          "name": "stdout",
          "text": [
            "# t (s)\tmx ()\tmy ()\tmz ()\text_topologicalcharge ()\text_topologicalchargelattice ()\n",
            "0\t-8.446002e-10\t0\t-0.57670563\t0.85493493\t0.91803914\n"
          ]
        }
      ]
    },
    {
      "cell_type": "code",
      "metadata": {
        "colab": {
          "base_uri": "https://localhost:8080/",
          "height": 67
        },
        "id": "TveCoVeeftr0",
        "outputId": "adee9ea7-01c2-4fcd-8884-9ae756b92856"
      },
      "source": [
        "Image('/content/std_prob_dmi_2d.out/m000000.jpg')"
      ],
      "execution_count": 23,
      "outputs": [
        {
          "output_type": "execute_result",
          "data": {
            "image/jpeg": "[encoded data removed]",
            "text/plain": [
              "<IPython.core.display.Image object>"
            ]
          },
          "metadata": {},
          "execution_count": 23
        }
      ]
    },
    {
      "cell_type": "code",
      "metadata": {
        "id": "uM_oizkDfztd",
        "colab": {
          "base_uri": "https://localhost:8080/"
        },
        "outputId": "27d95f1b-7fbe-4735-a255-6a1d98286668"
      },
      "source": [
        "!mumax3-convert -png -resize 256x256x1 -arrows 16 std_prob_dmi_2d.out/Skyrmion-Inter.ovf"
      ],
      "execution_count": 24,
      "outputs": [
        {
          "output_type": "stream",
          "name": "stdout",
          "text": [
            "std_prob_dmi_2d.out/Skyrmion-Inter.ovf\n",
            "[ ok ] std_prob_dmi_2d.out/Skyrmion-Inter.ovf\t-> std_prob_dmi_2d.out/Skyrmion-Inter.png\n",
            "1 files converted,  0 skipped,  0 failed\n"
          ]
        }
      ]
    },
    {
      "cell_type": "code",
      "metadata": {
        "colab": {
          "base_uri": "https://localhost:8080/"
        },
        "id": "QcDWd3zpIo5G",
        "outputId": "ecdc49de-c645-49d3-9767-0306ae6f110d"
      },
      "source": [
        "!mumax3-convert -png -resize 256x256x1 -arrows 16 std_prob_dmi_2d.out/Skyrmion-Inter-chargedensity.ovf"
      ],
      "execution_count": 25,
      "outputs": [
        {
          "output_type": "stream",
          "name": "stdout",
          "text": [
            "std_prob_dmi_2d.out/Skyrmion-Inter-chargedensity.ovf\n",
            "[ ok ] std_prob_dmi_2d.out/Skyrmion-Inter-chargedensity.ovf\t-> std_prob_dmi_2d.out/Skyrmion-Inter-chargedensity.png\n",
            "1 files converted,  0 skipped,  0 failed\n"
          ]
        }
      ]
    },
    {
      "cell_type": "code",
      "metadata": {
        "colab": {
          "base_uri": "https://localhost:8080/",
          "height": 273
        },
        "id": "dJA2b2BlF17P",
        "outputId": "aec2c258-b86b-42ea-a1a9-96bcc609a939"
      },
      "source": [
        "Image('/content/std_prob_dmi_2d.out/Skyrmion-Inter.png')"
      ],
      "execution_count": 26,
      "outputs": [
        {
          "output_type": "execute_result",
          "data": {
            "image/png": "[encoded data removed]",
            "text/plain": [
              "<IPython.core.display.Image object>"
            ]
          },
          "metadata": {},
          "execution_count": 26
        }
      ]
    },
    {
      "cell_type": "code",
      "metadata": {
        "colab": {
          "base_uri": "https://localhost:8080/",
          "height": 273
        },
        "id": "V2ngPUSqF-WK",
        "outputId": "f3291e3f-d234-4ed6-df95-09565e125d09"
      },
      "source": [
        "Image('/content/std_prob_dmi_2d.out/Skyrmion-Inter-chargedensity.png')"
      ],
      "execution_count": 15,
      "outputs": [
        {
          "output_type": "execute_result",
          "data": {
            "image/png": "[encoded data removed]",
            "text/plain": [
              "<IPython.core.display.Image object>"
            ]
          },
          "metadata": {},
          "execution_count": 15
        }
      ]
    },
    {
      "cell_type": "code",
      "metadata": {
        "colab": {
          "base_uri": "https://localhost:8080/"
        },
        "id": "i_kgkScPIvSC",
        "outputId": "34e6cdfb-99ef-41be-d8f3-de4d3c490bb4"
      },
      "source": [
        "!mumax3-convert -vtk ascii /content/std_prob_dmi_2d.out/Skyrmion-Inter.ovf"
      ],
      "execution_count": 27,
      "outputs": [
        {
          "output_type": "stream",
          "name": "stdout",
          "text": [
            "/content/std_prob_dmi_2d.out/Skyrmion-Inter.ovf\n",
            "[ ok ] /content/std_prob_dmi_2d.out/Skyrmion-Inter.ovf\t-> /content/std_prob_dmi_2d.out/Skyrmion-Inter.vts\n",
            "1 files converted,  0 skipped,  0 failed\n"
          ]
        }
      ]
    },
    {
      "cell_type": "code",
      "metadata": {
        "id": "NkylxVYRMmPJ"
      },
      "source": [
        "# Load the data across the center of the disk\n",
        "m_center = np.loadtxt('std_prob_dmi_2d.out/Skyrmion-Inter-centerline.ovf')"
      ],
      "execution_count": 30,
      "outputs": []
    },
    {
      "cell_type": "code",
      "metadata": {
        "id": "hjYMqEOORCt_"
      },
      "source": [
        "nm = 1\n",
        "coords = [1 * nm + i * 2 * nm for i in range(50)]\n",
        "coords = np.array(coords) - 50 * nm"
      ],
      "execution_count": 44,
      "outputs": []
    },
    {
      "cell_type": "code",
      "metadata": {
        "colab": {
          "base_uri": "https://localhost:8080/",
          "height": 279
        },
        "id": "PEdO672cREA0",
        "outputId": "6632cbfa-7a78-494d-8da1-fff02b03eb5e"
      },
      "source": [
        "f, ax = plt.subplots()\n",
        "\n",
        "ax.plot(coords, m_center[:, 2], 'o-')\n",
        "ax.axhline(y=0)\n",
        "ax.set_xlabel('x  (nm)')\n",
        "\n",
        "plt.show()"
      ],
      "execution_count": 45,
      "outputs": [
        {
          "output_type": "display_data",
          "data": {
            "image/png": "[encoded data removed]",
            "text/plain": [
              "<Figure size 432x288 with 1 Axes>"
            ]
          },
          "metadata": {
            "needs_background": "light"
          }
        }
      ]
    },
    {
      "cell_type": "markdown",
      "metadata": {
        "id": "6oOg7CEpRZT0"
      },
      "source": [
        "# Skyrmion racetrack"
      ]
    },
    {
      "cell_type": "code",
      "metadata": {
        "id": "LdSGcqPSgPif"
      },
      "source": [
        "from IPython.display import Image\n",
        "import numpy as np\n",
        "import matplotlib.pyplot as plt"
      ],
      "execution_count": 55,
      "outputs": []
    },
    {
      "cell_type": "code",
      "metadata": {
        "id": "4tQKhb8Qglhz"
      },
      "source": [
        "!rm -r /content/sk_track.out"
      ],
      "execution_count": 63,
      "outputs": []
    },
    {
      "cell_type": "code",
      "metadata": {
        "colab": {
          "base_uri": "https://localhost:8080/"
        },
        "id": "mrQjJlAwWLuB",
        "outputId": "531b73f6-e4ea-4f15-a42e-126c076c533e"
      },
      "source": [
        "!mumax3 sk_track.mx3"
      ],
      "execution_count": 65,
      "outputs": [
        {
          "output_type": "stream",
          "name": "stdout",
          "text": [
            "//mumax 3.10 [linux_amd64 go1.14(gc) CUDA-10.1]\n",
            "//GPU info: Tesla K80(11441MB), CUDA Driver 11.2, cc=3.7, using cc=37 PTX\n",
            "//(c) Arne Vansteenkiste, Dynamat LAB, Ghent University, Belgium\n",
            "//This is free software without any warranty. See license.txt\n",
            "//********************************************************************//\n",
            "//  If you use mumax in any work or publication,                      //\n",
            "//  we kindly ask you to cite the references in references.bib        //\n",
            "//********************************************************************//\n",
            "//output directory: sk_track.out/\n",
            "//starting GUI at http://127.0.0.1:35367\n",
            "Lx := 300e-9\n",
            "Ly := 40e-9\n",
            "Lz := 0.4e-9\n",
            "nx := pow(2, 8)\n",
            "ny := 32\n",
            "nz := 1\n",
            "SetGridSize(nx, ny, nz)\n",
            "SetCellSize(Lx/nx, Ly/ny, Lz/nz)\n",
            "SetPBC(1, 0, 0)\n",
            "//resizing...\n",
            "// Initializing geometry 3 %\n",
            "// Initializing geometry 100 %\n",
            "Msat = 580e3\n",
            "Aex = 15e-12\n",
            "Ku1 = 0.8e6\n",
            "anisU = vector(0, 0, 1)\n",
            "Dind = 3e-3\n",
            "m = uniform(0, 0, 1)\n",
            "m.setinshape(Circle(20e-9).transl(-120e-9, 0, 0), NeelSkyrmion(1, -1).transl(-120e-9, 0, 0))\n",
            "snapshotas(m, \"initial_state.png\")\n",
            "alpha = 0.3\n",
            "pol = 0.4\n",
            "j = vector(-1e12, 0, 0)\n",
            "xi = 0.30\n",
            "tableAdd(ext_bubblepos)\n",
            "tableadd(ext_topologicalcharge)\n",
            "autosave(m, 5e-11)\n",
            "tableautosave(5e-11)\n",
            "ns := 1e-9\n",
            "run(6 * ns)\n",
            "//Did not use cached kernel: open /tmp/mumax3kernel_[256 32 1]_[1 0 0]_[1.171875e-09 1.25e-09 4e-10]_6_0 0.ovf: no such file or directory\n",
            "//Cached kernel: /tmp/mumax3kernel_[256 32 1]_[1 0 0]_[1.171875e-09 1.25e-09 4e-10]_6_\n",
            "//********************************************************************//\n",
            "//Please cite the following references, relevant for your simulation. //\n",
            "//See bibtex file in output folder for justification.                 //\n",
            "//********************************************************************//\n",
            "//   * Mulkers et al., Phys. Rev. B 95, 144401 (2017).\n",
            "//   * Vansteenkiste et al., AIP Adv. 4, 107133 (2014).\n"
          ]
        }
      ]
    },
    {
      "cell_type": "code",
      "metadata": {
        "colab": {
          "base_uri": "https://localhost:8080/",
          "height": 49
        },
        "id": "4gWUHxzAf4C4",
        "outputId": "923d87c2-a769-4dbc-bff1-a9984d7e03b6"
      },
      "source": [
        "Image('/content/sk_track.out/initial_state.png')"
      ],
      "execution_count": 66,
      "outputs": [
        {
          "output_type": "execute_result",
          "data": {
            "image/png": "[encoded data removed]",
            "text/plain": [
              "<IPython.core.display.Image object>"
            ]
          },
          "metadata": {},
          "execution_count": 66
        }
      ]
    },
    {
      "cell_type": "code",
      "metadata": {
        "id": "c1-3MXxwgUpa"
      },
      "source": [
        "!mumax3-convert -png -resize 700x100x1 -arrows 16 /content/sk_track.out/m*.ovf"
      ],
      "execution_count": null,
      "outputs": []
    },
    {
      "cell_type": "code",
      "metadata": {
        "colab": {
          "base_uri": "https://localhost:8080/",
          "height": 117
        },
        "id": "r4tmFbKCk559",
        "outputId": "302690bc-d08a-4549-eef4-66c42743b02e"
      },
      "source": [
        "Image('/content/sk_track.out/m000001.png')"
      ],
      "execution_count": 70,
      "outputs": [
        {
          "output_type": "execute_result",
          "data": {
            "image/png": "[encoded data removed]",
            "text/plain": [
              "<IPython.core.display.Image object>"
            ]
          },
          "metadata": {},
          "execution_count": 70
        }
      ]
    },
    {
      "cell_type": "code",
      "metadata": {
        "colab": {
          "base_uri": "https://localhost:8080/",
          "height": 117
        },
        "id": "3rtHwr0ZlAjo",
        "outputId": "26be3462-d9d9-4b38-e250-fd39e5999ce6"
      },
      "source": [
        "Image('/content/sk_track.out/m000120.png')"
      ],
      "execution_count": 74,
      "outputs": [
        {
          "output_type": "execute_result",
          "data": {
            "image/png": "[encoded data removed]",
            "text/plain": [
              "<IPython.core.display.Image object>"
            ]
          },
          "metadata": {},
          "execution_count": 74
        }
      ]
    },
    {
      "cell_type": "code",
      "metadata": {
        "colab": {
          "base_uri": "https://localhost:8080/"
        },
        "id": "IfUG1y7blKv4",
        "outputId": "2525db7c-60df-4d6d-962d-738d2973ea3e"
      },
      "source": [
        "!head /content/sk_track.out/table.txt"
      ],
      "execution_count": 76,
      "outputs": [
        {
          "output_type": "stream",
          "name": "stdout",
          "text": [
            "# t (s)\tmx ()\tmy ()\tmz ()\text_bubbleposx (m)\text_bubbleposy (m)\text_bubbleposz (m)\text_topologicalcharge ()\n",
            "0\t0.00010979501\t1.1641532e-10\t0.9672046\t1.4142394e-09\t-6.249976e-10\t0\t-0.90991676\n",
            "5.0033566943290544e-11\t-2.544566e-07\t1.8943101e-06\t0.9637539\t6.105423e-10\t-6.2533617e-10\t0\t-0.9979534\n",
            "1.0000665806806223e-10\t7.348176e-07\t1.38022e-06\t0.96384937\t5.821824e-10\t-6.2537076e-10\t0\t-0.9979392\n",
            "1.5004344491247925e-10\t7.4613854e-07\t1.411885e-06\t0.96382695\t5.65213e-10\t-6.253743e-10\t0\t-0.99794126\n",
            "2.000126954924858e-10\t7.6126344e-07\t1.4454126e-06\t0.96382487\t5.4722427e-10\t-6.254041e-10\t0\t-0.9979414\n",
            "2.5004828792346607e-10\t7.7540926e-07\t1.4640391e-06\t0.96382475\t5.290031e-10\t-6.2536953e-10\t0\t-0.9979414\n",
            "3.000173597582655e-10\t7.859053e-07\t1.4863908e-06\t0.96382475\t5.108714e-10\t-6.253803e-10\t0\t-0.9979414\n",
            "3.5005277918646774e-10\t7.963995e-07\t1.4975667e-06\t0.9638248\t4.9288273e-10\t-6.253719e-10\t0\t-0.9979414\n",
            "4.000217522383296e-10\t8.034194e-07\t1.5161932e-06\t0.9638248\t4.7480464e-10\t-6.2538386e-10\t0\t-0.9979415\n"
          ]
        }
      ]
    },
    {
      "cell_type": "code",
      "metadata": {
        "id": "Br1bJEIUllLg"
      },
      "source": [
        "data = np.loadtxt('/content/sk_track.out/table.txt')\n",
        "\n",
        "time = data[1:, 0]\n",
        "sk_pos_x = data[1:, -4]\n",
        "sk_pos_y = data[1:, -3]"
      ],
      "execution_count": 80,
      "outputs": []
    },
    {
      "cell_type": "code",
      "metadata": {
        "colab": {
          "base_uri": "https://localhost:8080/",
          "height": 306
        },
        "id": "DjCAjdj8l4lQ",
        "outputId": "6bac1273-1591-4731-9eef-3a6d41b471c9"
      },
      "source": [
        "plt.plot(time, sk_pos_x, 'o-')\n",
        "plt.plot(time, sk_pos_y, 's-')"
      ],
      "execution_count": 81,
      "outputs": [
        {
          "output_type": "execute_result",
          "data": {
            "text/plain": [
              "[<matplotlib.lines.Line2D at 0x7f5e793ef850>]"
            ]
          },
          "metadata": {},
          "execution_count": 81
        },
        {
          "output_type": "display_data",
          "data": {
            "image/png": "[encoded data removed]",
            "text/plain": [
              "<Figure size 432x288 with 1 Axes>"
            ]
          },
          "metadata": {
            "needs_background": "light"
          }
        }
      ]
    },
    {
      "cell_type": "code",
      "metadata": {
        "id": "DAkHs5UXmYnM"
      },
      "source": [
        ""
      ],
      "execution_count": null,
      "outputs": []
    },
    {
      "cell_type": "markdown",
      "metadata": {
        "id": "nrmuL3osntDX"
      },
      "source": [
        "# Skyrmion track with a notch"
      ]
    },
    {
      "cell_type": "code",
      "metadata": {
        "id": "U86X7atKrs7L"
      },
      "source": [
        "!rm -r sk_track_notch.out/"
      ],
      "execution_count": 119,
      "outputs": []
    },
    {
      "cell_type": "code",
      "metadata": {
        "colab": {
          "base_uri": "https://localhost:8080/"
        },
        "id": "w3k3ICFnnvzS",
        "outputId": "5136447f-d16a-468b-9372-d4d2a6eb6668"
      },
      "source": [
        "!mumax3 sk_track_notch.mx3"
      ],
      "execution_count": 120,
      "outputs": [
        {
          "output_type": "stream",
          "name": "stdout",
          "text": [
            "//mumax 3.10 [linux_amd64 go1.14(gc) CUDA-10.1]\n",
            "//GPU info: Tesla K80(11441MB), CUDA Driver 11.2, cc=3.7, using cc=37 PTX\n",
            "//(c) Arne Vansteenkiste, Dynamat LAB, Ghent University, Belgium\n",
            "//This is free software without any warranty. See license.txt\n",
            "//********************************************************************//\n",
            "//  If you use mumax in any work or publication,                      //\n",
            "//  we kindly ask you to cite the references in references.bib        //\n",
            "//********************************************************************//\n",
            "//output directory: sk_track_notch.out/\n",
            "//starting GUI at http://127.0.0.1:35367\n",
            "Lx := 300e-9\n",
            "Ly := 40e-9\n",
            "Lz := 0.4e-9\n",
            "nx := pow(2, 8)\n",
            "ny := 32\n",
            "nz := 1\n",
            "SetGridSize(nx, ny, nz)\n",
            "SetCellSize(Lx/nx, Ly/ny, Lz/nz)\n",
            "SetPBC(1, 0, 0)\n",
            "//resizing...\n",
            "// Initializing geometry 3 %\n",
            "// Initializing geometry 100 %\n",
            "Msat = 580e3\n",
            "Aex = 15e-12\n",
            "Ku1 = 0.8e6\n",
            "anisU = vector(0, 0, 1)\n",
            "Dind = 3e-3\n",
            "DefRegion(1, Rect(40e-9, 40e-9).rotZ(45*pi/180).transl(0, 30e-9, 0))\n",
            "snapshot(regions)\n",
            "Ku1.setRegion(1, 1.2e6)\n",
            "anisU.setRegion(1, vector(0, 0, 1))\n",
            "m = uniform(0, 0, 1)\n",
            "m.setinshape(Circle(20e-9).transl(-120e-9, 0, 0), NeelSkyrmion(1, -1).transl(-120e-9, 0, 0))\n",
            "snapshotas(m, \"initial_state.png\")\n",
            "minimize()\n",
            "//Using cached kernel: /tmp/mumax3kernel_[256 32 1]_[1 0 0]_[1.171875e-09 1.25e-09 4e-10]_6_\n",
            "snapshotas(m, \"initial_state_relaxed.png\")\n",
            "alpha = 0.3\n",
            "pol = 0.4\n",
            "j = vector(-1e12, 0, 0)\n",
            "xi = 0.30\n",
            "tableAdd(ext_bubblepos)\n",
            "tableadd(ext_topologicalcharge)\n",
            "autosave(m, 5e-11)\n",
            "tableautosave(5e-11)\n",
            "ns := 1e-9\n",
            "run(6 * ns)\n",
            "//********************************************************************//\n",
            "//Please cite the following references, relevant for your simulation. //\n",
            "//See bibtex file in output folder for justification.                 //\n",
            "//********************************************************************//\n",
            "//   * Vansteenkiste et al., AIP Adv. 4, 107133 (2014).\n",
            "//   * Exl et al., J. Appl. Phys. 115, 17D118 (2014).\n",
            "//   * Mulkers et al., Phys. Rev. B 95, 144401 (2017).\n"
          ]
        }
      ]
    },
    {
      "cell_type": "code",
      "metadata": {
        "colab": {
          "base_uri": "https://localhost:8080/",
          "height": 49
        },
        "id": "EgaFNzZSqQOl",
        "outputId": "c87b5b2d-a09d-4fa0-d782-4a44a049d36f"
      },
      "source": [
        "Image('sk_track_notch.out/regions000000.jpg')"
      ],
      "execution_count": 115,
      "outputs": [
        {
          "output_type": "execute_result",
          "data": {
            "image/jpeg": "[encoded data removed]",
            "text/plain": [
              "<IPython.core.display.Image object>"
            ]
          },
          "metadata": {},
          "execution_count": 115
        }
      ]
    },
    {
      "cell_type": "code",
      "metadata": {
        "id": "eSzDo1jjqPda"
      },
      "source": [
        "!mumax3-convert -png -resize 700x100x1 -arrows 16 /content/sk_track_notch.out/m*.ovf"
      ],
      "execution_count": null,
      "outputs": []
    },
    {
      "cell_type": "code",
      "metadata": {
        "colab": {
          "base_uri": "https://localhost:8080/",
          "height": 49
        },
        "id": "3OyuxO8MtHPn",
        "outputId": "391cf1fd-d65c-41d0-9b23-0d5b5b8e05c4"
      },
      "source": [
        "Image('/content/sk_track_notch.out/initial_state.png')"
      ],
      "execution_count": 117,
      "outputs": [
        {
          "output_type": "execute_result",
          "data": {
            "image/png": "[encoded data removed]",
            "text/plain": [
              "<IPython.core.display.Image object>"
            ]
          },
          "metadata": {},
          "execution_count": 117
        }
      ]
    },
    {
      "cell_type": "code",
      "metadata": {
        "colab": {
          "base_uri": "https://localhost:8080/",
          "height": 49
        },
        "id": "-QzmwOVMtat5",
        "outputId": "15254d70-3b59-4d6f-a5fe-d558849bc0a2"
      },
      "source": [
        "Image('/content/sk_track_notch.out/initial_state_relaxed.png')"
      ],
      "execution_count": 118,
      "outputs": [
        {
          "output_type": "execute_result",
          "data": {
            "image/png": "[encoded data removed]",
            "text/plain": [
              "<IPython.core.display.Image object>"
            ]
          },
          "metadata": {},
          "execution_count": 118
        }
      ]
    },
    {
      "cell_type": "code",
      "metadata": {
        "colab": {
          "base_uri": "https://localhost:8080/",
          "height": 117
        },
        "id": "Cx0fZxM0sw_d",
        "outputId": "91da04d4-e647-4f71-d23c-44e7feb3cd6d"
      },
      "source": [
        "Image('/content/sk_track_notch.out/m000000.png')"
      ],
      "execution_count": 124,
      "outputs": [
        {
          "output_type": "execute_result",
          "data": {
            "image/png": "[encoded data removed]",
            "text/plain": [
              "<IPython.core.display.Image object>"
            ]
          },
          "metadata": {},
          "execution_count": 124
        }
      ]
    },
    {
      "cell_type": "code",
      "metadata": {
        "colab": {
          "base_uri": "https://localhost:8080/",
          "height": 117
        },
        "id": "Rz1MbepGvYsm",
        "outputId": "f19f7dbd-5451-4d30-842e-12a1788d2e0f"
      },
      "source": [
        "Image('/content/sk_track_notch.out/m000060.png')"
      ],
      "execution_count": 129,
      "outputs": [
        {
          "output_type": "execute_result",
          "data": {
            "image/png": "[encoded data removed]",
            "text/plain": [
              "<IPython.core.display.Image object>"
            ]
          },
          "metadata": {},
          "execution_count": 129
        }
      ]
    },
    {
      "cell_type": "code",
      "metadata": {
        "colab": {
          "base_uri": "https://localhost:8080/",
          "height": 117
        },
        "id": "MD8oCbULvz9D",
        "outputId": "c445369d-070e-486d-abf2-ee84983f1db6"
      },
      "source": [
        "Image('/content/sk_track_notch.out/m000076.png')"
      ],
      "execution_count": 136,
      "outputs": [
        {
          "output_type": "execute_result",
          "data": {
            "image/png": "[encoded data removed]",
            "text/plain": [
              "<IPython.core.display.Image object>"
            ]
          },
          "metadata": {},
          "execution_count": 136
        }
      ]
    },
    {
      "cell_type": "code",
      "metadata": {
        "colab": {
          "base_uri": "https://localhost:8080/"
        },
        "id": "aXMbk8nEvkT7",
        "outputId": "c3400fab-195f-40fc-ebd8-fcb432e15e0a"
      },
      "source": [
        "!convert m*.png sk_motion.gif"
      ],
      "execution_count": 130,
      "outputs": [
        {
          "output_type": "stream",
          "name": "stdout",
          "text": [
            "/bin/bash: convert: command not found\n"
          ]
        }
      ]
    },
    {
      "cell_type": "code",
      "metadata": {
        "id": "LB3iXXSfwGus"
      },
      "source": [
        "data = np.loadtxt('/content/sk_track_notch.out/table.txt')\n",
        "\n",
        "time = data[1:, 0]\n",
        "sk_pos_x = data[1:, -4]\n",
        "sk_pos_y = data[1:, -3]"
      ],
      "execution_count": 137,
      "outputs": []
    },
    {
      "cell_type": "code",
      "metadata": {
        "colab": {
          "base_uri": "https://localhost:8080/",
          "height": 306
        },
        "id": "VFYhV0cUwLWA",
        "outputId": "6c60ad98-fb53-4f10-8c92-b1eb42e72b51"
      },
      "source": [
        "plt.plot(time, sk_pos_x, '-')\n",
        "plt.plot(time, sk_pos_y, '-')"
      ],
      "execution_count": 139,
      "outputs": [
        {
          "output_type": "execute_result",
          "data": {
            "text/plain": [
              "[<matplotlib.lines.Line2D at 0x7f5e792e7e10>]"
            ]
          },
          "metadata": {},
          "execution_count": 139
        },
        {
          "output_type": "display_data",
          "data": {
            "image/png": "[encoded data removed]",
            "text/plain": [
              "<Figure size 432x288 with 1 Axes>"
            ]
          },
          "metadata": {
            "needs_background": "light"
          }
        }
      ]
    },
    {
      "cell_type": "markdown",
      "metadata": {
        "id": "1XFRNVBZs35x"
      },
      "source": [
        "# MuMax3 from Python"
      ]
    },
    {
      "cell_type": "code",
      "metadata": {
        "id": "kUw8fIiCutDb"
      },
      "source": [
        "J = -1e-12\n",
        "sim = f\"\"\"\n",
        "/* Template for the example simulations of the ALMA Tutorials 2021 MuMax3 workshop.\n",
        "   Author: Dr. David Cortés-Ortuño\n",
        "   Utrecht University\n",
        "   d.i.cortes@uu.nl\n",
        "*/\n",
        "\n",
        "// Track length\n",
        "Lx := 300e-9\n",
        "Ly := 40e-9\n",
        "Lz := 0.4e-9\n",
        "\n",
        "// Number of cells (power of 2) -> discretization of ~1.25\n",
        "nx := pow(2, 8)\n",
        "ny := 32\n",
        "nz := 1\n",
        "\n",
        "// Set mesh and disk geometry\n",
        "SetGridSize(nx, ny, nz)\n",
        "SetCellSize(Lx / nx, Ly / ny, Lz / nz)\n",
        "SetPBC(1, 0, 0)\n",
        "\n",
        "// SetMesh(nx, ny, nz, Lx / nx, Ly / ny, Lz / nz, 1, 0, 0) \n",
        "\n",
        "Msat        = 580e3\n",
        "Aex         = 15e-12\n",
        "Ku1         = 0.8e6\n",
        "anisU       = vector(0, 0, 1)\n",
        "Dind        = 3e-3\n",
        "// No Demag:\n",
        "// NoDemagSpins = 1\n",
        "// EnableDemag = false\n",
        "\n",
        "// Define a notch (higher anisotropy)\n",
        "DefRegion(1, Rect(40e-9, 40e-9).rotZ(45 * pi / 180).transl(0, 30e-9, 0))\n",
        "snapshot(regions)\n",
        "\n",
        "Ku1.setRegion(1, 1.2e6)\n",
        "anisU.setRegion(1, vector(0, 0, 1))\n",
        "\n",
        "// Initial state\n",
        "m = uniform(0, 0, 1)\n",
        "m.setinshape(Circle(20e-9).transl(-120e-9, 0, 0), NeelSkyrmion(1, -1).transl(-120e-9, 0, 0))\n",
        "\n",
        "snapshotas(m, \"initial_state.png\")\n",
        "\n",
        "// Relax the skyrmion from the initial state\n",
        "minimize()\n",
        "// relax()\n",
        "\n",
        "snapshotas(m, \"initial_state_relaxed.png\")\n",
        "\n",
        "// Dynamics\n",
        "alpha = 0.3\n",
        "// Zhang-Li torque parameters\n",
        "pol = 0.4\n",
        "j = vector({J}, 0, 0)\n",
        "xi = 0.30\n",
        "\n",
        "tableAdd(ext_bubblepos)\n",
        "tableadd(ext_topologicalcharge)\n",
        "\n",
        "autosave(m, 5e-11)\n",
        "tableautosave(5e-11)\n",
        "\n",
        "ns := 1e-9\n",
        "run(6 * ns)\n",
        "\"\"\""
      ],
      "execution_count": 121,
      "outputs": []
    },
    {
      "cell_type": "code",
      "metadata": {
        "colab": {
          "base_uri": "https://localhost:8080/",
          "height": 162
        },
        "id": "q5o18RaXu_aC",
        "outputId": "5a53b6b0-82ad-4506-bffd-2827905602c0"
      },
      "source": [
        "sim"
      ],
      "execution_count": 122,
      "outputs": [
        {
          "output_type": "execute_result",
          "data": {
            "application/vnd.google.colaboratory.intrinsic+json": {
              "type": "string"
            },
            "text/plain": [
              "'\\n/* Template for the example simulations of the ALMA Tutorials 2021 MuMax3 workshop.\\n   Author: Dr. David Cortés-Ortuño\\n   Utrecht University\\n   d.i.cortes@uu.nl\\n*/\\n\\n// Track length\\nLx := 300e-9\\nLy := 40e-9\\nLz := 0.4e-9\\n\\n// Number of cells (power of 2) -> discretization of ~1.25\\nnx := pow(2, 8)\\nny := 32\\nnz := 1\\n\\n// Set mesh and disk geometry\\nSetGridSize(nx, ny, nz)\\nSetCellSize(Lx / nx, Ly / ny, Lz / nz)\\nSetPBC(1, 0, 0)\\n\\n// SetMesh(nx, ny, nz, Lx / nx, Ly / ny, Lz / nz, 1, 0, 0) \\n\\nMsat        = 580e3\\nAex         = 15e-12\\nKu1         = 0.8e6\\nanisU       = vector(0, 0, 1)\\nDind        = 3e-3\\n// No Demag:\\n// NoDemagSpins = 1\\n// EnableDemag = false\\n\\n// Define a notch (higher anisotropy)\\nDefRegion(1, Rect(40e-9, 40e-9).rotZ(45 * pi / 180).transl(0, 30e-9, 0))\\nsnapshot(regions)\\n\\nKu1.setRegion(1, 1.2e6)\\nanisU.setRegion(1, vector(0, 0, 1))\\n\\n// Initial state\\nm = uniform(0, 0, 1)\\nm.setinshape(Circle(20e-9).transl(-120e-9, 0, 0), NeelSkyrmion(1, -1).transl(-120e-9, 0, 0))\\n\\nsnapshotas(m, \"initial_state.png\")\\n\\n// Relax the skyrmion from the initial state\\nminimize()\\n// relax()\\n\\nsnapshotas(m, \"initial_state_relaxed.png\")\\n\\n// Dynamics\\nalpha = 0.3\\n// Zhang-Li torque parameters\\npol = 0.4\\nj = vector(-1e-12, 0, 0)\\nxi = 0.30\\n\\ntableAdd(ext_bubblepos)\\ntableadd(ext_topologicalcharge)\\n\\nautosave(m, 5e-11)\\ntableautosave(5e-11)\\n\\nns := 1e-9\\nrun(6 * ns)\\n'"
            ]
          },
          "metadata": {},
          "execution_count": 122
        }
      ]
    },
    {
      "cell_type": "code",
      "metadata": {
        "id": "skKPILJuvAIM"
      },
      "source": [
        "import os\n",
        "os.subprocess('mumax3 {}')"
      ],
      "execution_count": null,
      "outputs": []
    },
    {
      "cell_type": "markdown",
      "metadata": {
        "id": "IkABW40vxAhl"
      },
      "source": [
        "# Skyrmion FMR"
      ]
    },
    {
      "cell_type": "code",
      "metadata": {
        "colab": {
          "base_uri": "https://localhost:8080/"
        },
        "id": "9lLhgQ7mw_jO",
        "outputId": "7efae390-c68e-441b-88c8-7b79b4de2eba"
      },
      "source": [
        "!mumax3 /content/isolated_sk_fmr.mx3"
      ],
      "execution_count": 141,
      "outputs": [
        {
          "output_type": "stream",
          "name": "stdout",
          "text": [
            "//mumax 3.10 [linux_amd64 go1.14(gc) CUDA-10.1]\n",
            "//GPU info: Tesla K80(11441MB), CUDA Driver 11.2, cc=3.7, using cc=37 PTX\n",
            "//(c) Arne Vansteenkiste, Dynamat LAB, Ghent University, Belgium\n",
            "//This is free software without any warranty. See license.txt\n",
            "//********************************************************************//\n",
            "//  If you use mumax in any work or publication,                      //\n",
            "//  we kindly ask you to cite the references in references.bib        //\n",
            "//********************************************************************//\n",
            "//output directory: /content/isolated_sk_fmr.out/\n",
            "//starting GUI at http://127.0.0.1:35367\n",
            "R := 8e-9\n",
            "nx := 32\n",
            "ny := 32\n",
            "nz := 1\n",
            "dx := 0.5e-9\n",
            "dy := 0.5e-9\n",
            "dz := 0.5e-9\n",
            "SetGridSize(nx, ny, nz)\n",
            "SetCellSize(dx, dy, dz)\n",
            "SetGeom(Circle(2 * R))\n",
            "// Initializing geometry 3 %\n",
            "// Initializing geometry 100 %\n",
            "DefRegion(1, Circle(R/2))\n",
            "Msat = 1.1e6\n",
            "Aex = 2e-12\n",
            "Ku1 = 2.5e6\n",
            "anisU = vector(0, 0, 1)\n",
            "Dind = -3.9e-3\n",
            "NoDemagSpins = 1\n",
            "m.setRegion(0, uniform(0, 0, -1))\n",
            "m.setRegion(1, uniform(0, 0, 1))\n",
            "OutputFormat = OVF2_TEXT\n",
            "minimize()\n",
            "//Did not use cached kernel: open /tmp/mumax3kernel_[32 32 1]_[0 0 0]_[5e-10 5e-10 5e-10]_6_0 0.ovf: no such file or directory\n",
            "//Cached kernel: /tmp/mumax3kernel_[32 32 1]_[0 0 0]_[5e-10 5e-10 5e-10]_6_\n",
            "SaveAs(m, \"Skyrmion-Inter\")\n",
            "Snapshot(m)\n",
            "OutputFormat = OVF2_BINARY\n",
            "tableautosave(1e-11)\n",
            "fc := 50e9\n",
            "t0 := 49.99 * 1e-12\n",
            "h0 := 0.01\n",
            "B_ext.set(vector(0, 0, h0*sin(2*pi*fc*(t-t0))/(2*pi*fc*(t-t0))))\n",
            "alpha = 0.01\n",
            "autosave(m, 1e-11)\n",
            "FixDt = 1e-13\n",
            "Run(4e-9)\n",
            "//********************************************************************//\n",
            "//Please cite the following references, relevant for your simulation. //\n",
            "//See bibtex file in output folder for justification.                 //\n",
            "//********************************************************************//\n",
            "//   * Mulkers et al., Phys. Rev. B 95, 144401 (2017).\n",
            "//   * Vansteenkiste et al., AIP Adv. 4, 107133 (2014).\n",
            "//   * Exl et al., J. Appl. Phys. 115, 17D118 (2014).\n"
          ]
        }
      ]
    },
    {
      "cell_type": "code",
      "metadata": {
        "id": "HXnwbNj0xG7B"
      },
      "source": [
        "data = np.loadtxt('/content/isolated_sk_fmr.out/table.txt')"
      ],
      "execution_count": 142,
      "outputs": []
    },
    {
      "cell_type": "code",
      "metadata": {
        "id": "wBydd8aUxyBC"
      },
      "source": [
        "# Use the spatially average magnetisation for finding the modes\n",
        "# quickly\n",
        "mz = data[:, -1]\n",
        "time = data[:, 0]\n",
        "# Time step:\n",
        "dt = time[1] - time[0]"
      ],
      "execution_count": 160,
      "outputs": []
    },
    {
      "cell_type": "code",
      "metadata": {
        "id": "YwX9T5RyxzH2"
      },
      "source": [
        "# Shift the FFT so we have the spectrum centered at 0\n",
        "# We also compute the frequencies using time scaled in ns so\n",
        "# frequencies are in GHz\n",
        "mz_fft = np.abs(np.fft.fftshift(np.fft.fft(mz - mz[0])))\n",
        "freqs = np.fft.fftshift(np.fft.fftfreq(len(data[:, 0]), d=dt * 1e9))"
      ],
      "execution_count": 163,
      "outputs": []
    },
    {
      "cell_type": "code",
      "metadata": {
        "colab": {
          "base_uri": "https://localhost:8080/"
        },
        "id": "twBlIwz4zPbo",
        "outputId": "5f94455d-fe62-427d-e7d4-68390d37125f"
      },
      "source": [
        "freqs[:10]"
      ],
      "execution_count": 170,
      "outputs": [
        {
          "output_type": "execute_result",
          "data": {
            "text/plain": [
              "array([-49.87531172, -49.62593516, -49.3765586 , -49.12718204,\n",
              "       -48.87780549, -48.62842893, -48.37905237, -48.12967581,\n",
              "       -47.88029925, -47.63092269])"
            ]
          },
          "metadata": {},
          "execution_count": 170
        }
      ]
    },
    {
      "cell_type": "code",
      "metadata": {
        "colab": {
          "base_uri": "https://localhost:8080/",
          "height": 311
        },
        "id": "OIyLxKyvyHaL",
        "outputId": "56e24fab-9bb3-4775-8051-a6b9465cc2cc"
      },
      "source": [
        "# Now we can observe the modes\n",
        "plt.plot(freqs, mz_fft ** 2)\n",
        "plt.ylim(0, 0.000004)\n",
        "plt.xlim(0, 50)\n",
        "\n",
        "# By eye the peak is at\n",
        "print(f'Peak at {freqs[235]} GHz')\n",
        "plt.axvline(x=freqs[235], c='k', ls='--', lw=1)\n",
        "\n",
        "print(f'Peak at {freqs[346]} GHz')\n",
        "plt.axvline(x=freqs[346], c='k', ls='--', lw=1)\n",
        "\n",
        "plt.show()"
      ],
      "execution_count": 192,
      "outputs": [
        {
          "output_type": "stream",
          "name": "stdout",
          "text": [
            "Peak at 8.728179551122196 GHz\n",
            "Peak at 36.408977556109726 GHz\n"
          ]
        },
        {
          "output_type": "display_data",
          "data": {
            "image/png": "[encoded data removed]",
            "text/plain": [
              "<Figure size 432x288 with 1 Axes>"
            ]
          },
          "metadata": {
            "needs_background": "light"
          }
        }
      ]
    },
    {
      "cell_type": "code",
      "metadata": {
        "id": "d6Q3YHr_4zRA"
      },
      "source": [
        "# Mumax3 can convert the magnetisation to Numpy arrays:"
      ],
      "execution_count": 193,
      "outputs": []
    },
    {
      "cell_type": "code",
      "metadata": {
        "id": "PwwYj3lg3ySH"
      },
      "source": [
        "!mumax3-convert -numpy /content/isolated_sk_fmr.out/m*.ovf"
      ],
      "execution_count": null,
      "outputs": []
    },
    {
      "cell_type": "code",
      "metadata": {
        "id": "LHtqT_y7yTPp"
      },
      "source": [
        "# Try to find the excitation modes from the spatially averaged\n",
        "# spectrum\n",
        "# Stack the XY layer at every time -> every simulation m file:\n",
        "# m000000 m000001 ... etc\n",
        "datadyn_stack = []\n",
        "# We will substract the static comp from every file\n",
        "d_static = np.load('isolated_sk_fmr.out/m000001.npy')[2][0]\n",
        "for i in range(1, 401):\n",
        "  # Take mz (component 2 of the first dimension) and the [0] layer\n",
        "  # This system only has 1 layer\n",
        "  d = np.load('isolated_sk_fmr.out/m{:06d}.npy'.format(i))[2][0]\n",
        "  d = d - d_static\n",
        "  datadyn_stack.append(d)\n",
        "\n",
        "datadyn_stack = np.array(datadyn_stack)"
      ],
      "execution_count": 208,
      "outputs": []
    },
    {
      "cell_type": "code",
      "metadata": {
        "colab": {
          "base_uri": "https://localhost:8080/"
        },
        "id": "yoy8cZxb5U00",
        "outputId": "b5f739ce-8f39-4f62-949b-e189c9087219"
      },
      "source": [
        "datadyn_stack.shape"
      ],
      "execution_count": 209,
      "outputs": [
        {
          "output_type": "execute_result",
          "data": {
            "text/plain": [
              "(400, 32, 32)"
            ]
          },
          "metadata": {},
          "execution_count": 209
        }
      ]
    },
    {
      "cell_type": "code",
      "metadata": {
        "id": "I-eQkBo95mLo"
      },
      "source": [
        "# Do FFT on every node of the layer \n",
        "# (across 1st dimension, which is time -> remember we stacked m)\n",
        "# The fftshift is also at the first dimension\n",
        "datadyn_fft = np.fft.fftshift(np.fft.fft(datadyn_stack, axis=0), axes=0)"
      ],
      "execution_count": 210,
      "outputs": []
    },
    {
      "cell_type": "markdown",
      "metadata": {
        "id": "W6CIjAgv7AXf"
      },
      "source": [
        "We can now plot the resonance modes:"
      ]
    },
    {
      "cell_type": "code",
      "metadata": {
        "colab": {
          "base_uri": "https://localhost:8080/",
          "height": 374
        },
        "id": "CqZ7VUMe54QP",
        "outputId": "6741c633-c6b1-4752-fe8a-80fec54708c6"
      },
      "source": [
        "# From the spatially avgd spectrum we had a peak at\n",
        "peak1_idx = 173\n",
        "\n",
        "plt.figure(figsize=(6, 6))\n",
        "plt.imshow(np.abs(datadyn_fft[peak1_idx]) ** 2, \n",
        "           cmap='magma', origin='lower')  # change origin of plot\n",
        "plt.show()"
      ],
      "execution_count": 211,
      "outputs": [
        {
          "output_type": "display_data",
          "data": {
            "image/png": "[encoded data removed]",
            "text/plain": [
              "<Figure size 432x432 with 1 Axes>"
            ]
          },
          "metadata": {
            "needs_background": "light"
          }
        }
      ]
    },
    {
      "cell_type": "code",
      "metadata": {
        "colab": {
          "base_uri": "https://localhost:8080/",
          "height": 374
        },
        "id": "hERfMgaR58Ek",
        "outputId": "e0c297c5-7152-49a3-9100-33cf3e2689cb"
      },
      "source": [
        "# From the spatially avgd spectrum we had a peak at\n",
        "peak2_idx = 346\n",
        "\n",
        "plt.figure(figsize=(6, 6))\n",
        "plt.imshow(np.abs(datadyn_fft[peak2_idx]) ** 2, \n",
        "           cmap='magma', origin='lower')  # change origin of plot\n",
        "plt.show()"
      ],
      "execution_count": 215,
      "outputs": [
        {
          "output_type": "display_data",
          "data": {
            "image/png": "[encoded data removed]",
            "text/plain": [
              "<Figure size 432x432 with 1 Axes>"
            ]
          },
          "metadata": {
            "needs_background": "light"
          }
        }
      ]
    },
    {
      "cell_type": "code",
      "metadata": {
        "id": "KS2nPBce6exv"
      },
      "source": [
        "# we can also have a more complete spectrum by averaging\n",
        "# the FFT from every node at every time\n",
        "fft_avgd = np.mean(datadyn_fft, axis=(1, 2))\n",
        "# We have 400 files:\n",
        "freqs_avgd = np.fft.fftshift(np.fft.fftfreq(400, d=dt * 1e9))"
      ],
      "execution_count": 221,
      "outputs": []
    },
    {
      "cell_type": "code",
      "metadata": {
        "colab": {
          "base_uri": "https://localhost:8080/"
        },
        "id": "R9oC5bDE7zjz",
        "outputId": "8b75238f-5d3e-4678-dc2c-8f23a8ca664f"
      },
      "source": [
        "fft_avgd.shape"
      ],
      "execution_count": 223,
      "outputs": [
        {
          "output_type": "execute_result",
          "data": {
            "text/plain": [
              "(400,)"
            ]
          },
          "metadata": {},
          "execution_count": 223
        }
      ]
    },
    {
      "cell_type": "code",
      "metadata": {
        "colab": {
          "base_uri": "https://localhost:8080/",
          "height": 311
        },
        "id": "QW-vNUEL7YQJ",
        "outputId": "6e3df3db-52ef-45a9-8b81-10fc168ca5b9"
      },
      "source": [
        "# Now we can observe smaller peaks, but the main modes are\n",
        "# located at the same frequencies\n",
        "\n",
        "plt.plot(freqs_avgd, np.abs(fft_avgd) ** 2)\n",
        "plt.ylim(0, 0.000001)\n",
        "plt.xlim(0, 50)\n",
        "\n",
        "# By eye the peak is at\n",
        "print(f'Peak at {freqs[235]} GHz')\n",
        "plt.axvline(x=freqs[235], c='k', ls='--', lw=1)\n",
        "\n",
        "print(f'Peak at {freqs[346]} GHz')\n",
        "plt.axvline(x=freqs[346], c='k', ls='--', lw=1)\n",
        "\n",
        "plt.show()"
      ],
      "execution_count": 229,
      "outputs": [
        {
          "output_type": "stream",
          "name": "stdout",
          "text": [
            "Peak at 8.728179551122196 GHz\n",
            "Peak at 36.408977556109726 GHz\n"
          ]
        },
        {
          "output_type": "display_data",
          "data": {
            "image/png": "[encoded data removed]",
            "text/plain": [
              "<Figure size 432x288 with 1 Axes>"
            ]
          },
          "metadata": {
            "needs_background": "light"
          }
        }
      ]
    },
    {
      "cell_type": "code",
      "metadata": {
        "id": "9OTeS-_Q7wcx"
      },
      "source": [
        ""
      ],
      "execution_count": null,
      "outputs": []
    }
  ]
}