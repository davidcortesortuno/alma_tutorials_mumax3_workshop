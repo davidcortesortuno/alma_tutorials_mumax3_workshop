{
 "cells": [
  {
   "cell_type": "markdown",
   "metadata": {},
   "source": [
    "# ALMA Tutorials: MuMax3 Workshop\n",
    "Author: David Cortés-Ortuño\n",
    "\n",
    "Utrecht University, Netherlands <img src=\"https://upload.wikimedia.org/wikipedia/en/thumb/2/26/Utrecht_University_logo.svg/1280px-Utrecht_University_logo.svg.png\" height=30 width=30 style=\"display: inline-block;\">\n",
    "\n",
    "Credits to: The Dynamat Team from Ghent University and the [MuMax3 Workshop](https://mumax.ugent.be/mumax3-workshop/); Google \n",
    "\n",
    "## Using Google Colab\n",
    "\n",
    "This notebook will help you to install and run MuMax3 in a Google Colab (GC) machine. The GC interface is based on the Python 🐍 programming language using a Jupyter notebook.\n",
    "\n",
    "To run commands as in the command line interface (in the shell) we prepend an exclamation sign `!` to the commands. In this case we can see we are running Linux:"
   ]
  },
  {
   "cell_type": "code",
   "execution_count": null,
   "metadata": {},
   "outputs": [],
   "source": [
    "!echo \"This Google Colab machine runs\" $(uname -a)"
   ]
  },
  {
   "cell_type": "markdown",
   "metadata": {},
   "source": [
    "The GC machines can be used with a GPU, which we can confirm by running the `nvidia` System Management Interface command and which also tells us the CUDA version:"
   ]
  },
  {
   "cell_type": "code",
   "execution_count": null,
   "metadata": {},
   "outputs": [],
   "source": [
    "!nvidia-smi"
   ]
  },
  {
   "cell_type": "markdown",
   "metadata": {},
   "source": [
    "We can now install MuMax3 in this machine by downloading the code binaries and add the `mumax3` command to the environment paths which allows us to run the simulations:"
   ]
  },
  {
   "cell_type": "code",
   "execution_count": null,
   "metadata": {},
   "outputs": [],
   "source": [
    "# Download the mumax3 binary\n",
    "!wget https://mumax.ugent.be/mumax3-binaries/mumax3.10_linux_cuda10.1.tar.gz\n",
    "!tar -xvf mumax3.10_linux_cuda10.1.tar.gz\n",
    "!rm mumax3.10_linux_cuda10.1.tar.gz\n",
    "!rm -rf mumax3.10 && mv mumax3.10_linux_cuda10.1 mumax3.10\n",
    "\n",
    "#update the PATH environment variable\n",
    "import os\n",
    "os.environ['PATH'] += \":/content/mumax3.10\""
   ]
  },
  {
   "cell_type": "markdown",
   "metadata": {},
   "source": [
    "Note that commands without `!` are run using normal Python. If the GPU is not enabled in your GC machine, you can activate it by going to:\n",
    "\n",
    "`Runtime -> Change runtime type`\n",
    "\n",
    "in the top menu and choosing GPU."
   ]
  },
  {
   "cell_type": "markdown",
   "metadata": {},
   "source": [
    "## Running a script using the command line interface\n",
    "\n",
    "We can test MuMax3 is installed correctly by clonning Std Problem 4 script from one of the MuMax3 developers (see also https://mumax.ugent.be/mumax3-workshop/ ):"
   ]
  },
  {
   "cell_type": "code",
   "execution_count": null,
   "metadata": {},
   "outputs": [],
   "source": [
    "# Download an examplary script\n",
    "!wget https://raw.githubusercontent.com/JeroenMulkers/mumax3-tutorial/master/standardproblem4.mx3 -O standardproblem4.mx3"
   ]
  },
  {
   "cell_type": "markdown",
   "metadata": {},
   "source": [
    "You can check this is downloaded by looking at the files in the left side panel. Now we run this script ⌛️:"
   ]
  },
  {
   "cell_type": "code",
   "execution_count": null,
   "metadata": {},
   "outputs": [],
   "source": [
    "!mumax3 standardproblem4.mx3"
   ]
  },
  {
   "cell_type": "markdown",
   "metadata": {},
   "source": [
    "And finally we can check the outputs by converting the output file to a `png` image:"
   ]
  },
  {
   "cell_type": "code",
   "execution_count": null,
   "metadata": {},
   "outputs": [],
   "source": [
    "!mumax3-convert -arrows 20 -png -resize 256x128x4 /content/standardproblem4.out/m000000.ovf "
   ]
  },
  {
   "cell_type": "markdown",
   "metadata": {},
   "source": [
    "Which we can plot using the `Image` command from Python:"
   ]
  },
  {
   "cell_type": "code",
   "execution_count": null,
   "metadata": {},
   "outputs": [],
   "source": [
    "from IPython.display import Image\n",
    "\n",
    "Image('standardproblem4.out/m000000.png')"
   ]
  },
  {
   "cell_type": "markdown",
   "metadata": {},
   "source": [
    "## Running a script using Python\n",
    "\n",
    "Alternatively, we can also run a script by writing it using Python, saving the file and then running it:"
   ]
  },
  {
   "cell_type": "code",
   "execution_count": null,
   "metadata": {},
   "outputs": [],
   "source": [
    "import textwrap  # this library helps to remove whitespaces to the left"
   ]
  },
  {
   "cell_type": "code",
   "execution_count": null,
   "metadata": {},
   "outputs": [],
   "source": [
    "# Here we create a string with the simulation script:\n",
    "my_simulation = textwrap.dedent(\"\"\"\n",
    "SetGridsize(128, 32, 1)\n",
    "SetCellsize(500e-9/128, 125e-9/32, 3e-9)\n",
    "\n",
    "Msat  = 800e3\n",
    "Aex   = 13e-12\n",
    "alpha = 0.02\n",
    "\n",
    "m = uniform(1, .1, 0)\n",
    "relax()\n",
    "save(m)    // relaxed state\n",
    "\n",
    "autosave(m, 200e-12)\n",
    "tableautosave(10e-12)\n",
    "\n",
    "B_ext = vector(-24.6E-3, 4.3E-3, 0)\n",
    "run(1e-9)\n",
    "\"\"\")\n",
    "\n",
    "with open('std_prob4_usingpython.mx3', 'w') as f:\n",
    "    f.write(my_simulation)"
   ]
  },
  {
   "cell_type": "markdown",
   "metadata": {},
   "source": [
    "We can now run this script ⌛️:"
   ]
  },
  {
   "cell_type": "code",
   "execution_count": null,
   "metadata": {},
   "outputs": [],
   "source": [
    "!mumax3 std_prob4_usingpython.mx3"
   ]
  },
  {
   "cell_type": "markdown",
   "metadata": {},
   "source": [
    "Note that in this case, we can use all the advantages of Python, like replacing variables with numerical values 😀"
   ]
  },
  {
   "cell_type": "code",
   "execution_count": null,
   "metadata": {},
   "outputs": [],
   "source": []
  }
 ],
 "metadata": {
  "kernelspec": {
   "display_name": "Python 3",
   "language": "python",
   "name": "python3"
  },
  "language_info": {
   "codemirror_mode": {
    "name": "ipython",
    "version": 3
   },
   "file_extension": ".py",
   "mimetype": "text/x-python",
   "name": "python",
   "nbconvert_exporter": "python",
   "pygments_lexer": "ipython3",
   "version": "3.8.10"
  }
 },
 "nbformat": 4,
 "nbformat_minor": 4
}
